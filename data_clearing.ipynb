{
 "cells": [
  {
   "cell_type": "markdown",
   "id": "007b58ea-178b-41f7-8f07-38410068181c",
   "metadata": {},
   "source": [
    "# Olimpiyatlar Verisi Analiz Örneği"
   ]
  },
  {
   "cell_type": "markdown",
   "id": "5e502572-9f2d-4ab0-a3ed-aba6a9a8b132",
   "metadata": {},
   "source": [
    "### Kütüphaneleri Yükleyelim"
   ]
  },
  {
   "cell_type": "code",
   "execution_count": 1,
   "id": "738227e3-1552-4d0e-8a87-62daf29b7a09",
   "metadata": {},
   "outputs": [],
   "source": [
    "import numpy as np\n",
    "import pandas as pd\n",
    "import matplotlib.pyplot as plt\n",
    "from collections import Counter"
   ]
  },
  {
   "cell_type": "code",
   "execution_count": 2,
   "id": "03a99f65-e785-4e59-987c-32e1e03874e1",
   "metadata": {},
   "outputs": [
    {
     "data": {
      "text/html": [
       "<div>\n",
       "<style scoped>\n",
       "    .dataframe tbody tr th:only-of-type {\n",
       "        vertical-align: middle;\n",
       "    }\n",
       "\n",
       "    .dataframe tbody tr th {\n",
       "        vertical-align: top;\n",
       "    }\n",
       "\n",
       "    .dataframe thead th {\n",
       "        text-align: right;\n",
       "    }\n",
       "</style>\n",
       "<table border=\"1\" class=\"dataframe\">\n",
       "  <thead>\n",
       "    <tr style=\"text-align: right;\">\n",
       "      <th></th>\n",
       "      <th>ID</th>\n",
       "      <th>Name</th>\n",
       "      <th>Sex</th>\n",
       "      <th>Age</th>\n",
       "      <th>Height</th>\n",
       "      <th>Weight</th>\n",
       "      <th>Team</th>\n",
       "      <th>NOC</th>\n",
       "      <th>Games</th>\n",
       "      <th>Year</th>\n",
       "      <th>Season</th>\n",
       "      <th>City</th>\n",
       "      <th>Sport</th>\n",
       "      <th>Event</th>\n",
       "      <th>Medal</th>\n",
       "    </tr>\n",
       "  </thead>\n",
       "  <tbody>\n",
       "    <tr>\n",
       "      <th>0</th>\n",
       "      <td>1</td>\n",
       "      <td>A Dijiang</td>\n",
       "      <td>M</td>\n",
       "      <td>24.0</td>\n",
       "      <td>180.0</td>\n",
       "      <td>80.0</td>\n",
       "      <td>China</td>\n",
       "      <td>CHN</td>\n",
       "      <td>1992 Summer</td>\n",
       "      <td>1992</td>\n",
       "      <td>Summer</td>\n",
       "      <td>Barcelona</td>\n",
       "      <td>Basketball</td>\n",
       "      <td>Basketball Men's Basketball</td>\n",
       "      <td>NaN</td>\n",
       "    </tr>\n",
       "    <tr>\n",
       "      <th>1</th>\n",
       "      <td>2</td>\n",
       "      <td>A Lamusi</td>\n",
       "      <td>M</td>\n",
       "      <td>23.0</td>\n",
       "      <td>170.0</td>\n",
       "      <td>60.0</td>\n",
       "      <td>China</td>\n",
       "      <td>CHN</td>\n",
       "      <td>2012 Summer</td>\n",
       "      <td>2012</td>\n",
       "      <td>Summer</td>\n",
       "      <td>London</td>\n",
       "      <td>Judo</td>\n",
       "      <td>Judo Men's Extra-Lightweight</td>\n",
       "      <td>NaN</td>\n",
       "    </tr>\n",
       "    <tr>\n",
       "      <th>2</th>\n",
       "      <td>3</td>\n",
       "      <td>Gunnar Nielsen Aaby</td>\n",
       "      <td>M</td>\n",
       "      <td>24.0</td>\n",
       "      <td>NaN</td>\n",
       "      <td>NaN</td>\n",
       "      <td>Denmark</td>\n",
       "      <td>DEN</td>\n",
       "      <td>1920 Summer</td>\n",
       "      <td>1920</td>\n",
       "      <td>Summer</td>\n",
       "      <td>Antwerpen</td>\n",
       "      <td>Football</td>\n",
       "      <td>Football Men's Football</td>\n",
       "      <td>NaN</td>\n",
       "    </tr>\n",
       "    <tr>\n",
       "      <th>3</th>\n",
       "      <td>4</td>\n",
       "      <td>Edgar Lindenau Aabye</td>\n",
       "      <td>M</td>\n",
       "      <td>34.0</td>\n",
       "      <td>NaN</td>\n",
       "      <td>NaN</td>\n",
       "      <td>Denmark/Sweden</td>\n",
       "      <td>DEN</td>\n",
       "      <td>1900 Summer</td>\n",
       "      <td>1900</td>\n",
       "      <td>Summer</td>\n",
       "      <td>Paris</td>\n",
       "      <td>Tug-Of-War</td>\n",
       "      <td>Tug-Of-War Men's Tug-Of-War</td>\n",
       "      <td>Gold</td>\n",
       "    </tr>\n",
       "    <tr>\n",
       "      <th>4</th>\n",
       "      <td>5</td>\n",
       "      <td>Christine Jacoba Aaftink</td>\n",
       "      <td>F</td>\n",
       "      <td>21.0</td>\n",
       "      <td>185.0</td>\n",
       "      <td>82.0</td>\n",
       "      <td>Netherlands</td>\n",
       "      <td>NED</td>\n",
       "      <td>1988 Winter</td>\n",
       "      <td>1988</td>\n",
       "      <td>Winter</td>\n",
       "      <td>Calgary</td>\n",
       "      <td>Speed Skating</td>\n",
       "      <td>Speed Skating Women's 500 metres</td>\n",
       "      <td>NaN</td>\n",
       "    </tr>\n",
       "  </tbody>\n",
       "</table>\n",
       "</div>"
      ],
      "text/plain": [
       "   ID                      Name Sex   Age  Height  Weight            Team  \\\n",
       "0   1                 A Dijiang   M  24.0   180.0    80.0           China   \n",
       "1   2                  A Lamusi   M  23.0   170.0    60.0           China   \n",
       "2   3       Gunnar Nielsen Aaby   M  24.0     NaN     NaN         Denmark   \n",
       "3   4      Edgar Lindenau Aabye   M  34.0     NaN     NaN  Denmark/Sweden   \n",
       "4   5  Christine Jacoba Aaftink   F  21.0   185.0    82.0     Netherlands   \n",
       "\n",
       "   NOC        Games  Year  Season       City          Sport  \\\n",
       "0  CHN  1992 Summer  1992  Summer  Barcelona     Basketball   \n",
       "1  CHN  2012 Summer  2012  Summer     London           Judo   \n",
       "2  DEN  1920 Summer  1920  Summer  Antwerpen       Football   \n",
       "3  DEN  1900 Summer  1900  Summer      Paris     Tug-Of-War   \n",
       "4  NED  1988 Winter  1988  Winter    Calgary  Speed Skating   \n",
       "\n",
       "                              Event Medal  \n",
       "0       Basketball Men's Basketball   NaN  \n",
       "1      Judo Men's Extra-Lightweight   NaN  \n",
       "2           Football Men's Football   NaN  \n",
       "3       Tug-Of-War Men's Tug-Of-War  Gold  \n",
       "4  Speed Skating Women's 500 metres   NaN  "
      ]
     },
     "execution_count": 2,
     "metadata": {},
     "output_type": "execute_result"
    }
   ],
   "source": [
    "veri = pd.read_csv(\"Desktop/athlete_events.csv\")\n",
    "veri.head()"
   ]
  },
  {
   "cell_type": "code",
   "execution_count": 3,
   "id": "1c3166dc-c83a-4a62-aad7-31e283d1118b",
   "metadata": {},
   "outputs": [
    {
     "name": "stdout",
     "output_type": "stream",
     "text": [
      "<class 'pandas.core.frame.DataFrame'>\n",
      "RangeIndex: 271116 entries, 0 to 271115\n",
      "Data columns (total 15 columns):\n",
      " #   Column  Non-Null Count   Dtype  \n",
      "---  ------  --------------   -----  \n",
      " 0   ID      271116 non-null  int64  \n",
      " 1   Name    271116 non-null  object \n",
      " 2   Sex     271116 non-null  object \n",
      " 3   Age     261642 non-null  float64\n",
      " 4   Height  210945 non-null  float64\n",
      " 5   Weight  208241 non-null  float64\n",
      " 6   Team    271116 non-null  object \n",
      " 7   NOC     271116 non-null  object \n",
      " 8   Games   271116 non-null  object \n",
      " 9   Year    271116 non-null  int64  \n",
      " 10  Season  271116 non-null  object \n",
      " 11  City    271116 non-null  object \n",
      " 12  Sport   271116 non-null  object \n",
      " 13  Event   271116 non-null  object \n",
      " 14  Medal   39783 non-null   object \n",
      "dtypes: float64(3), int64(2), object(10)\n",
      "memory usage: 31.0+ MB\n"
     ]
    }
   ],
   "source": [
    "veri.info()"
   ]
  },
  {
   "cell_type": "code",
   "execution_count": 4,
   "id": "5673499b-6359-45f2-979c-fd51be1a6ddf",
   "metadata": {},
   "outputs": [
    {
     "data": {
      "text/plain": [
       "Index(['ID', 'Name', 'Sex', 'Age', 'Height', 'Weight', 'Team', 'NOC', 'Games',\n",
       "       'Year', 'Season', 'City', 'Sport', 'Event', 'Medal'],\n",
       "      dtype='object')"
      ]
     },
     "execution_count": 4,
     "metadata": {},
     "output_type": "execute_result"
    }
   ],
   "source": [
    "veri.columns"
   ]
  },
  {
   "cell_type": "markdown",
   "id": "e47ec14f-6518-44d3-aa72-ec52b1af7e4f",
   "metadata": {},
   "source": [
    "### Sütün isimlerini değiştirme"
   ]
  },
  {
   "cell_type": "code",
   "execution_count": 5,
   "id": "fb120150-0c7e-4293-9fb9-954235e37330",
   "metadata": {},
   "outputs": [
    {
     "data": {
      "text/html": [
       "<div>\n",
       "<style scoped>\n",
       "    .dataframe tbody tr th:only-of-type {\n",
       "        vertical-align: middle;\n",
       "    }\n",
       "\n",
       "    .dataframe tbody tr th {\n",
       "        vertical-align: top;\n",
       "    }\n",
       "\n",
       "    .dataframe thead th {\n",
       "        text-align: right;\n",
       "    }\n",
       "</style>\n",
       "<table border=\"1\" class=\"dataframe\">\n",
       "  <thead>\n",
       "    <tr style=\"text-align: right;\">\n",
       "      <th></th>\n",
       "      <th>id</th>\n",
       "      <th>isim</th>\n",
       "      <th>cinsiyet</th>\n",
       "      <th>yas</th>\n",
       "      <th>boy</th>\n",
       "      <th>kilo</th>\n",
       "      <th>takim</th>\n",
       "      <th>uok</th>\n",
       "      <th>oyunlar</th>\n",
       "      <th>yil</th>\n",
       "      <th>sezon</th>\n",
       "      <th>sehir</th>\n",
       "      <th>spor</th>\n",
       "      <th>etkinlik</th>\n",
       "      <th>madalya</th>\n",
       "    </tr>\n",
       "  </thead>\n",
       "  <tbody>\n",
       "    <tr>\n",
       "      <th>0</th>\n",
       "      <td>1</td>\n",
       "      <td>A Dijiang</td>\n",
       "      <td>M</td>\n",
       "      <td>24.0</td>\n",
       "      <td>180.0</td>\n",
       "      <td>80.0</td>\n",
       "      <td>China</td>\n",
       "      <td>CHN</td>\n",
       "      <td>1992 Summer</td>\n",
       "      <td>1992</td>\n",
       "      <td>Summer</td>\n",
       "      <td>Barcelona</td>\n",
       "      <td>Basketball</td>\n",
       "      <td>Basketball Men's Basketball</td>\n",
       "      <td>NaN</td>\n",
       "    </tr>\n",
       "    <tr>\n",
       "      <th>1</th>\n",
       "      <td>2</td>\n",
       "      <td>A Lamusi</td>\n",
       "      <td>M</td>\n",
       "      <td>23.0</td>\n",
       "      <td>170.0</td>\n",
       "      <td>60.0</td>\n",
       "      <td>China</td>\n",
       "      <td>CHN</td>\n",
       "      <td>2012 Summer</td>\n",
       "      <td>2012</td>\n",
       "      <td>Summer</td>\n",
       "      <td>London</td>\n",
       "      <td>Judo</td>\n",
       "      <td>Judo Men's Extra-Lightweight</td>\n",
       "      <td>NaN</td>\n",
       "    </tr>\n",
       "  </tbody>\n",
       "</table>\n",
       "</div>"
      ],
      "text/plain": [
       "   id       isim cinsiyet   yas    boy  kilo  takim  uok      oyunlar   yil  \\\n",
       "0   1  A Dijiang        M  24.0  180.0  80.0  China  CHN  1992 Summer  1992   \n",
       "1   2   A Lamusi        M  23.0  170.0  60.0  China  CHN  2012 Summer  2012   \n",
       "\n",
       "    sezon      sehir        spor                      etkinlik madalya  \n",
       "0  Summer  Barcelona  Basketball   Basketball Men's Basketball     NaN  \n",
       "1  Summer     London        Judo  Judo Men's Extra-Lightweight     NaN  "
      ]
     },
     "execution_count": 5,
     "metadata": {},
     "output_type": "execute_result"
    }
   ],
   "source": [
    "veri.rename(columns = {\n",
    "    \"ID\" : \"id\",\n",
    "    \"Name\" : \"isim\",\n",
    "    \"Sex\" : \"cinsiyet\",\n",
    "    \"Age\" : \"yas\",\n",
    "    \"Height\" : \"boy\",\n",
    "    \"Weight\" : \"kilo\",\n",
    "    \"Team\" : \"takim\",\n",
    "    \"NOC\" : \"uok\",\n",
    "    \"Games\" : \"oyunlar\",\n",
    "    \"Year\" : \"yil\",\n",
    "    \"Season\" : \"sezon\",\n",
    "    \"City\" : \"sehir\",\n",
    "    \"Sport\" : \"spor\",\n",
    "    \"Event\" : \"etkinlik\",\n",
    "    \"Medal\" : \"madalya\"}, inplace = True)\n",
    "veri.head(2)"
   ]
  },
  {
   "cell_type": "markdown",
   "id": "423ed1f1-4f70-4110-9b9e-00059eea8c10",
   "metadata": {},
   "source": [
    "### İd ve oyunlar sütünlarını çıkardım çünkü fazla ve gereksiz bilgi"
   ]
  },
  {
   "cell_type": "code",
   "execution_count": 6,
   "id": "aea40359-ee4c-4937-a1d1-8b6b5d1b5673",
   "metadata": {},
   "outputs": [
    {
     "data": {
      "text/html": [
       "<div>\n",
       "<style scoped>\n",
       "    .dataframe tbody tr th:only-of-type {\n",
       "        vertical-align: middle;\n",
       "    }\n",
       "\n",
       "    .dataframe tbody tr th {\n",
       "        vertical-align: top;\n",
       "    }\n",
       "\n",
       "    .dataframe thead th {\n",
       "        text-align: right;\n",
       "    }\n",
       "</style>\n",
       "<table border=\"1\" class=\"dataframe\">\n",
       "  <thead>\n",
       "    <tr style=\"text-align: right;\">\n",
       "      <th></th>\n",
       "      <th>isim</th>\n",
       "      <th>cinsiyet</th>\n",
       "      <th>yas</th>\n",
       "      <th>boy</th>\n",
       "      <th>kilo</th>\n",
       "      <th>takim</th>\n",
       "      <th>uok</th>\n",
       "      <th>yil</th>\n",
       "      <th>sezon</th>\n",
       "      <th>sehir</th>\n",
       "      <th>spor</th>\n",
       "      <th>etkinlik</th>\n",
       "      <th>madalya</th>\n",
       "    </tr>\n",
       "  </thead>\n",
       "  <tbody>\n",
       "    <tr>\n",
       "      <th>0</th>\n",
       "      <td>A Dijiang</td>\n",
       "      <td>M</td>\n",
       "      <td>24.0</td>\n",
       "      <td>180.0</td>\n",
       "      <td>80.0</td>\n",
       "      <td>China</td>\n",
       "      <td>CHN</td>\n",
       "      <td>1992</td>\n",
       "      <td>Summer</td>\n",
       "      <td>Barcelona</td>\n",
       "      <td>Basketball</td>\n",
       "      <td>Basketball Men's Basketball</td>\n",
       "      <td>NaN</td>\n",
       "    </tr>\n",
       "    <tr>\n",
       "      <th>1</th>\n",
       "      <td>A Lamusi</td>\n",
       "      <td>M</td>\n",
       "      <td>23.0</td>\n",
       "      <td>170.0</td>\n",
       "      <td>60.0</td>\n",
       "      <td>China</td>\n",
       "      <td>CHN</td>\n",
       "      <td>2012</td>\n",
       "      <td>Summer</td>\n",
       "      <td>London</td>\n",
       "      <td>Judo</td>\n",
       "      <td>Judo Men's Extra-Lightweight</td>\n",
       "      <td>NaN</td>\n",
       "    </tr>\n",
       "  </tbody>\n",
       "</table>\n",
       "</div>"
      ],
      "text/plain": [
       "        isim cinsiyet   yas    boy  kilo  takim  uok   yil   sezon      sehir  \\\n",
       "0  A Dijiang        M  24.0  180.0  80.0  China  CHN  1992  Summer  Barcelona   \n",
       "1   A Lamusi        M  23.0  170.0  60.0  China  CHN  2012  Summer     London   \n",
       "\n",
       "         spor                      etkinlik madalya  \n",
       "0  Basketball   Basketball Men's Basketball     NaN  \n",
       "1        Judo  Judo Men's Extra-Lightweight     NaN  "
      ]
     },
     "execution_count": 6,
     "metadata": {},
     "output_type": "execute_result"
    }
   ],
   "source": [
    "veri = veri.drop([\"id\", \"oyunlar\"], axis = 1)\n",
    "veri.head(2)"
   ]
  },
  {
   "cell_type": "code",
   "execution_count": 7,
   "id": "83ddbca2-733a-4f49-add3-1164111b6248",
   "metadata": {},
   "outputs": [
    {
     "data": {
      "text/plain": [
       "(271116, 13)"
      ]
     },
     "execution_count": 7,
     "metadata": {},
     "output_type": "execute_result"
    }
   ],
   "source": [
    "veri.shape"
   ]
  },
  {
   "cell_type": "markdown",
   "id": "117f9348-36c7-4c5c-b969-841dc4649766",
   "metadata": {},
   "source": [
    "### tekrar etmeyen etkinlikleri alıp birkaç tanesini yazdırdım"
   ]
  },
  {
   "cell_type": "code",
   "execution_count": 8,
   "id": "fae34a10-1062-40ae-a80f-f0ec9440ddf9",
   "metadata": {},
   "outputs": [
    {
     "name": "stdout",
     "output_type": "stream",
     "text": [
      "Eşsiz etkinlik sayısı: 765\n"
     ]
    },
    {
     "data": {
      "text/plain": [
       "array([\"Basketball Men's Basketball\", \"Judo Men's Extra-Lightweight\",\n",
       "       \"Football Men's Football\", \"Tug-Of-War Men's Tug-Of-War\",\n",
       "       \"Speed Skating Women's 500 metres\",\n",
       "       \"Speed Skating Women's 1,000 metres\",\n",
       "       \"Cross Country Skiing Men's 10 kilometres\",\n",
       "       \"Cross Country Skiing Men's 50 kilometres\",\n",
       "       \"Cross Country Skiing Men's 10/15 kilometres Pursuit\",\n",
       "       \"Cross Country Skiing Men's 4 x 10 kilometres Relay\"], dtype=object)"
      ]
     },
     "execution_count": 8,
     "metadata": {},
     "output_type": "execute_result"
    }
   ],
   "source": [
    "essiz_etkinlik = pd.unique(veri.etkinlik)\n",
    "print(\"Eşsiz etkinlik sayısı: {}\".format(len(essiz_etkinlik)))\n",
    "essiz_etkinlik[:10]"
   ]
  },
  {
   "cell_type": "code",
   "execution_count": 9,
   "id": "b5ed045c-4f35-4b01-91d2-476976dd2b95",
   "metadata": {},
   "outputs": [
    {
     "name": "stdout",
     "output_type": "stream",
     "text": [
      "<class 'pandas.core.frame.DataFrame'>\n",
      "RangeIndex: 271116 entries, 0 to 271115\n",
      "Data columns (total 13 columns):\n",
      " #   Column    Non-Null Count   Dtype  \n",
      "---  ------    --------------   -----  \n",
      " 0   isim      271116 non-null  object \n",
      " 1   cinsiyet  271116 non-null  object \n",
      " 2   yas       261642 non-null  float64\n",
      " 3   boy       271116 non-null  float64\n",
      " 4   kilo      271116 non-null  float64\n",
      " 5   takim     271116 non-null  object \n",
      " 6   uok       271116 non-null  object \n",
      " 7   yil       271116 non-null  int64  \n",
      " 8   sezon     271116 non-null  object \n",
      " 9   sehir     271116 non-null  object \n",
      " 10  spor      271116 non-null  object \n",
      " 11  etkinlik  271116 non-null  object \n",
      " 12  madalya   39783 non-null   object \n",
      "dtypes: float64(3), int64(1), object(9)\n",
      "memory usage: 26.9+ MB\n"
     ]
    }
   ],
   "source": [
    "# etkinlikleri dolaşıp, boy ve ağırlık ortalamasını bulalım\n",
    "# etkinlik özelinde kayıp boy ve kilo değrlerini etkinlik ortalamalarına eşitle\n",
    "# bu bölüm çalışırken uzun sürüyor.\n",
    "\n",
    "# gerçek veriyi bozmayalım.\n",
    "veri_gecici = veri.copy()\n",
    "\n",
    "boy_kilo_liste = [\"boy\", \"kilo\"]\n",
    "\n",
    "for e in essiz_etkinlik: #liste içinde dolas\n",
    "    #etkinlik filtresi\n",
    "    etkinlik_filtre = veri_gecici.etkinlik == e\n",
    "    #etkinliğe göre filtrele\n",
    "    veri_filtreli = veri_gecici[etkinlik_filtre]\n",
    "\n",
    "    #boy ve kilo etkinlik özelinde ortalamlar\n",
    "    for s in boy_kilo_liste:\n",
    "        ortalama = np.round(np.mean(veri_filtreli[s]),2)\n",
    "        # ~ değil anlamında\n",
    "        if ~np.isnan(ortalama): #true #eğer etkinlik özelinde ortalama varsa\n",
    "            veri_filtreli.loc[:, s] = veri_filtreli[s].fillna(ortalama)\n",
    "        else: #eğer etkinlik özelinde ortalama yoksa, ortalamayı hesapla\n",
    "            tum_veri_ortalamasi = np.round(np.mean(veri[s]),2)\n",
    "            veri_filtreli.loc[:, s] = veri_filtreli[s].fillna(tum_veri_ortalamasi)\n",
    "#aslında etkinliğe göre eksik boy ve kilo sıraladık çünkü etkinliklerde\n",
    "#her branşın yani boyu ve kilosu farklı olabilir ama mesela boy olarak\n",
    "#basketbol ve varsa eğer biniciliğin boyları aynı değildir o yüzden \n",
    "# !!!etkinliğe göre!!! boy ve kilo doldurması yapmak lazım\n",
    "    \n",
    "    #gecici veriyi gerçek veriyle eşitle\n",
    "    veri_gecici[etkinlik_filtre] = veri_filtreli\n",
    "\n",
    "# kayıp değerleri giderilmiş olan geçici veriyi gerçek veriye eşitle\n",
    "veri = veri_gecici.copy()\n",
    "veri.info() #boy ve kilo sütünlarında kayıp veri kaldı mı?"
   ]
  },
  {
   "cell_type": "code",
   "execution_count": 10,
   "id": "f80a04ea-2dc9-42a0-829d-1730403e12c0",
   "metadata": {},
   "outputs": [
    {
     "name": "stdout",
     "output_type": "stream",
     "text": [
      "Yaş ortalamsı : 25.56\n",
      "<class 'pandas.core.frame.DataFrame'>\n",
      "RangeIndex: 271116 entries, 0 to 271115\n",
      "Data columns (total 13 columns):\n",
      " #   Column    Non-Null Count   Dtype  \n",
      "---  ------    --------------   -----  \n",
      " 0   isim      271116 non-null  object \n",
      " 1   cinsiyet  271116 non-null  object \n",
      " 2   yas       271116 non-null  float64\n",
      " 3   boy       271116 non-null  float64\n",
      " 4   kilo      271116 non-null  float64\n",
      " 5   takim     271116 non-null  object \n",
      " 6   uok       271116 non-null  object \n",
      " 7   yil       271116 non-null  int64  \n",
      " 8   sezon     271116 non-null  object \n",
      " 9   sehir     271116 non-null  object \n",
      " 10  spor      271116 non-null  object \n",
      " 11  etkinlik  271116 non-null  object \n",
      " 12  madalya   39783 non-null   object \n",
      "dtypes: float64(3), int64(1), object(9)\n",
      "memory usage: 26.9+ MB\n"
     ]
    }
   ],
   "source": [
    "#yas kolonunda tanımlı olmatyan değerleri doldurlarım\n",
    "yas_ortalamasi = np.round(np.mean(veri.yas),2)\n",
    "print(\"Yaş ortalamsı : {}\".format(yas_ortalamasi))\n",
    "veri[\"yas\"] = veri[\"yas\"].fillna(yas_ortalamasi)\n",
    "veri.info()"
   ]
  },
  {
   "cell_type": "markdown",
   "id": "dbbce4e7-48c0-4755-8841-b110df37e094",
   "metadata": {},
   "source": [
    "### Madalya almayanları çıkaralım"
   ]
  },
  {
   "cell_type": "code",
   "execution_count": 11,
   "id": "f3f467a6-bd5f-47e8-b528-7b10d7fd6574",
   "metadata": {},
   "outputs": [
    {
     "data": {
      "text/plain": [
       "231333"
      ]
     },
     "execution_count": 11,
     "metadata": {},
     "output_type": "execute_result"
    }
   ],
   "source": [
    "#madalya alamayanlar veya madalya sütünu nan olanlar\n",
    "madalya_degiskeni = veri[\"madalya\"]\n",
    "pd.isnull(madalya_degiskeni).sum()"
   ]
  },
  {
   "cell_type": "code",
   "execution_count": 12,
   "id": "ba2bf65f-2fed-46bf-90b8-c62c9028ba33",
   "metadata": {},
   "outputs": [],
   "source": [
    "#madalyası tanımsız olmayanları aldık burada\n",
    "madalya_degiskeni_filtresi = ~pd.isnull(madalya_degiskeni)"
   ]
  },
  {
   "cell_type": "markdown",
   "id": "318b1e85-9785-45f5-a18d-88243b3e54c0",
   "metadata": {},
   "source": [
    "### Sadece madalya kazananlar"
   ]
  },
  {
   "cell_type": "code",
   "execution_count": 13,
   "id": "fc041818-8b9b-490d-9303-d19220ae8f3a",
   "metadata": {},
   "outputs": [
    {
     "data": {
      "text/html": [
       "<div>\n",
       "<style scoped>\n",
       "    .dataframe tbody tr th:only-of-type {\n",
       "        vertical-align: middle;\n",
       "    }\n",
       "\n",
       "    .dataframe tbody tr th {\n",
       "        vertical-align: top;\n",
       "    }\n",
       "\n",
       "    .dataframe thead th {\n",
       "        text-align: right;\n",
       "    }\n",
       "</style>\n",
       "<table border=\"1\" class=\"dataframe\">\n",
       "  <thead>\n",
       "    <tr style=\"text-align: right;\">\n",
       "      <th></th>\n",
       "      <th>isim</th>\n",
       "      <th>cinsiyet</th>\n",
       "      <th>yas</th>\n",
       "      <th>boy</th>\n",
       "      <th>kilo</th>\n",
       "      <th>takim</th>\n",
       "      <th>uok</th>\n",
       "      <th>yil</th>\n",
       "      <th>sezon</th>\n",
       "      <th>sehir</th>\n",
       "      <th>spor</th>\n",
       "      <th>etkinlik</th>\n",
       "      <th>madalya</th>\n",
       "    </tr>\n",
       "  </thead>\n",
       "  <tbody>\n",
       "    <tr>\n",
       "      <th>3</th>\n",
       "      <td>Edgar Lindenau Aabye</td>\n",
       "      <td>M</td>\n",
       "      <td>34.0</td>\n",
       "      <td>182.48</td>\n",
       "      <td>95.62</td>\n",
       "      <td>Denmark/Sweden</td>\n",
       "      <td>DEN</td>\n",
       "      <td>1900</td>\n",
       "      <td>Summer</td>\n",
       "      <td>Paris</td>\n",
       "      <td>Tug-Of-War</td>\n",
       "      <td>Tug-Of-War Men's Tug-Of-War</td>\n",
       "      <td>Gold</td>\n",
       "    </tr>\n",
       "    <tr>\n",
       "      <th>37</th>\n",
       "      <td>Arvo Ossian Aaltonen</td>\n",
       "      <td>M</td>\n",
       "      <td>30.0</td>\n",
       "      <td>182.01</td>\n",
       "      <td>76.69</td>\n",
       "      <td>Finland</td>\n",
       "      <td>FIN</td>\n",
       "      <td>1920</td>\n",
       "      <td>Summer</td>\n",
       "      <td>Antwerpen</td>\n",
       "      <td>Swimming</td>\n",
       "      <td>Swimming Men's 200 metres Breaststroke</td>\n",
       "      <td>Bronze</td>\n",
       "    </tr>\n",
       "    <tr>\n",
       "      <th>38</th>\n",
       "      <td>Arvo Ossian Aaltonen</td>\n",
       "      <td>M</td>\n",
       "      <td>30.0</td>\n",
       "      <td>177.00</td>\n",
       "      <td>75.00</td>\n",
       "      <td>Finland</td>\n",
       "      <td>FIN</td>\n",
       "      <td>1920</td>\n",
       "      <td>Summer</td>\n",
       "      <td>Antwerpen</td>\n",
       "      <td>Swimming</td>\n",
       "      <td>Swimming Men's 400 metres Breaststroke</td>\n",
       "      <td>Bronze</td>\n",
       "    </tr>\n",
       "    <tr>\n",
       "      <th>40</th>\n",
       "      <td>Juhamatti Tapio Aaltonen</td>\n",
       "      <td>M</td>\n",
       "      <td>28.0</td>\n",
       "      <td>184.00</td>\n",
       "      <td>85.00</td>\n",
       "      <td>Finland</td>\n",
       "      <td>FIN</td>\n",
       "      <td>2014</td>\n",
       "      <td>Winter</td>\n",
       "      <td>Sochi</td>\n",
       "      <td>Ice Hockey</td>\n",
       "      <td>Ice Hockey Men's Ice Hockey</td>\n",
       "      <td>Bronze</td>\n",
       "    </tr>\n",
       "    <tr>\n",
       "      <th>41</th>\n",
       "      <td>Paavo Johannes Aaltonen</td>\n",
       "      <td>M</td>\n",
       "      <td>28.0</td>\n",
       "      <td>175.00</td>\n",
       "      <td>64.00</td>\n",
       "      <td>Finland</td>\n",
       "      <td>FIN</td>\n",
       "      <td>1948</td>\n",
       "      <td>Summer</td>\n",
       "      <td>London</td>\n",
       "      <td>Gymnastics</td>\n",
       "      <td>Gymnastics Men's Individual All-Around</td>\n",
       "      <td>Bronze</td>\n",
       "    </tr>\n",
       "  </tbody>\n",
       "</table>\n",
       "</div>"
      ],
      "text/plain": [
       "                        isim cinsiyet   yas     boy   kilo           takim  \\\n",
       "3       Edgar Lindenau Aabye        M  34.0  182.48  95.62  Denmark/Sweden   \n",
       "37      Arvo Ossian Aaltonen        M  30.0  182.01  76.69         Finland   \n",
       "38      Arvo Ossian Aaltonen        M  30.0  177.00  75.00         Finland   \n",
       "40  Juhamatti Tapio Aaltonen        M  28.0  184.00  85.00         Finland   \n",
       "41   Paavo Johannes Aaltonen        M  28.0  175.00  64.00         Finland   \n",
       "\n",
       "    uok   yil   sezon      sehir        spor  \\\n",
       "3   DEN  1900  Summer      Paris  Tug-Of-War   \n",
       "37  FIN  1920  Summer  Antwerpen    Swimming   \n",
       "38  FIN  1920  Summer  Antwerpen    Swimming   \n",
       "40  FIN  2014  Winter      Sochi  Ice Hockey   \n",
       "41  FIN  1948  Summer     London  Gymnastics   \n",
       "\n",
       "                                  etkinlik madalya  \n",
       "3              Tug-Of-War Men's Tug-Of-War    Gold  \n",
       "37  Swimming Men's 200 metres Breaststroke  Bronze  \n",
       "38  Swimming Men's 400 metres Breaststroke  Bronze  \n",
       "40             Ice Hockey Men's Ice Hockey  Bronze  \n",
       "41  Gymnastics Men's Individual All-Around  Bronze  "
      ]
     },
     "execution_count": 13,
     "metadata": {},
     "output_type": "execute_result"
    }
   ],
   "source": [
    "veri = veri[madalya_degiskeni_filtresi]\n",
    "veri.head()"
   ]
  },
  {
   "cell_type": "code",
   "execution_count": 14,
   "id": "7d1ff0b0-66d5-4493-97c2-5d1e5122dbe4",
   "metadata": {},
   "outputs": [
    {
     "name": "stdout",
     "output_type": "stream",
     "text": [
      "<class 'pandas.core.frame.DataFrame'>\n",
      "Index: 39783 entries, 3 to 271103\n",
      "Data columns (total 13 columns):\n",
      " #   Column    Non-Null Count  Dtype  \n",
      "---  ------    --------------  -----  \n",
      " 0   isim      39783 non-null  object \n",
      " 1   cinsiyet  39783 non-null  object \n",
      " 2   yas       39783 non-null  float64\n",
      " 3   boy       39783 non-null  float64\n",
      " 4   kilo      39783 non-null  float64\n",
      " 5   takim     39783 non-null  object \n",
      " 6   uok       39783 non-null  object \n",
      " 7   yil       39783 non-null  int64  \n",
      " 8   sezon     39783 non-null  object \n",
      " 9   sehir     39783 non-null  object \n",
      " 10  spor      39783 non-null  object \n",
      " 11  etkinlik  39783 non-null  object \n",
      " 12  madalya   39783 non-null  object \n",
      "dtypes: float64(3), int64(1), object(9)\n",
      "memory usage: 4.2+ MB\n"
     ]
    }
   ],
   "source": [
    "veri.info()"
   ]
  },
  {
   "cell_type": "markdown",
   "id": "d305d204-737c-48ef-9476-c11484a46220",
   "metadata": {},
   "source": [
    "### Temizlenmiş veriyi başka dosyaya aktaralım"
   ]
  },
  {
   "cell_type": "code",
   "execution_count": 15,
   "id": "68314a3a-aa81-434a-9e3c-ff768aeaab18",
   "metadata": {},
   "outputs": [],
   "source": [
    "#sonra kullanabilmek için veriyi kaydettim\n",
    "veri.to_csv(\"C:/Users/timur/Desktop/olm_temiz.csv\", index = False)"
   ]
  },
  {
   "cell_type": "markdown",
   "id": "e2e900b5-a52c-4508-895d-0d2fd5c96edf",
   "metadata": {},
   "source": [
    "### Histogram yazacak fonk. yazalım"
   ]
  },
  {
   "cell_type": "code",
   "execution_count": 16,
   "id": "97215ffa-628f-416e-9e56-a958cf3645c4",
   "metadata": {},
   "outputs": [],
   "source": [
    "#öncelikli histogramlar çizelim\n",
    "def plotHistogram(degisken):\n",
    "    \"\"\"\n",
    "    Girdi : Değişken sütun ismi\n",
    "    Çıktı : Değişken histogram\n",
    "    \"\"\"\n",
    "    plt.figure() #kare şeklinde grafik oluşturmak istiyorsan her türlü figure yapman lazım\n",
    "    plt.hist(veri[degisken], bins = 85, color = \"orange\")\n",
    "    #histogram belli aralıklarda ne kadar verinin olduğunu gösterir\n",
    "    plt.xlabel(degisken)\n",
    "    plt.ylabel(\"Frekans\")\n",
    "    plt.title(\"Veri Sıklığı - {}\".format(degisken))\n",
    "    plt.show()"
   ]
  },
  {
   "cell_type": "markdown",
   "id": "66f749b7-763f-4d42-be70-95515ac27467",
   "metadata": {},
   "source": [
    "### Tüm sayısal değişkenler için histogramları çizelim"
   ]
  },
  {
   "cell_type": "code",
   "execution_count": 17,
   "id": "0719e8bb-201f-40d1-91e6-b1d58009678f",
   "metadata": {},
   "outputs": [
    {
     "data": {
      "image/png": "[encoded data removed]",
      "text/plain": [
       "<Figure size 640x480 with 1 Axes>"
      ]
     },
     "metadata": {},
     "output_type": "display_data"
    },
    {
     "data": {
      "image/png": "[encoded data removed]",
      "text/plain": [
       "<Figure size 640x480 with 1 Axes>"
      ]
     },
     "metadata": {},
     "output_type": "display_data"
    },
    {
     "data": {
      "image/png": "[encoded data removed]",
      "text/plain": [
       "<Figure size 640x480 with 1 Axes>"
      ]
     },
     "metadata": {},
     "output_type": "display_data"
    },
    {
     "data": {
      "image/png": "[encoded data removed]",
      "text/plain": [
       "<Figure size 640x480 with 1 Axes>"
      ]
     },
     "metadata": {},
     "output_type": "display_data"
    }
   ],
   "source": [
    "#tüm sayısal değişkenler için histogramları çizdim\n",
    "sayisal_degiskenler = [\"yas\",\"boy\",\"kilo\",\"yil\"]\n",
    "for i in sayisal_degiskenler:\n",
    "    plotHistogram(i)"
   ]
  },
  {
   "cell_type": "markdown",
   "id": "2257030d-296f-4186-8028-cb6f90f9d5be",
   "metadata": {},
   "source": [
    "### Verinin genel istatistikleri"
   ]
  },
  {
   "cell_type": "code",
   "execution_count": 18,
   "id": "8cdb257b-10ed-403c-bae6-ef4982f0e246",
   "metadata": {},
   "outputs": [
    {
     "data": {
      "text/html": [
       "<div>\n",
       "<style scoped>\n",
       "    .dataframe tbody tr th:only-of-type {\n",
       "        vertical-align: middle;\n",
       "    }\n",
       "\n",
       "    .dataframe tbody tr th {\n",
       "        vertical-align: top;\n",
       "    }\n",
       "\n",
       "    .dataframe thead th {\n",
       "        text-align: right;\n",
       "    }\n",
       "</style>\n",
       "<table border=\"1\" class=\"dataframe\">\n",
       "  <thead>\n",
       "    <tr style=\"text-align: right;\">\n",
       "      <th></th>\n",
       "      <th>yas</th>\n",
       "      <th>boy</th>\n",
       "      <th>kilo</th>\n",
       "      <th>yil</th>\n",
       "    </tr>\n",
       "  </thead>\n",
       "  <tbody>\n",
       "    <tr>\n",
       "      <th>count</th>\n",
       "      <td>39783.000000</td>\n",
       "      <td>39783.000000</td>\n",
       "      <td>39783.000000</td>\n",
       "      <td>39783.000000</td>\n",
       "    </tr>\n",
       "    <tr>\n",
       "      <th>mean</th>\n",
       "      <td>25.918456</td>\n",
       "      <td>177.336690</td>\n",
       "      <td>73.738320</td>\n",
       "      <td>1973.943845</td>\n",
       "    </tr>\n",
       "    <tr>\n",
       "      <th>std</th>\n",
       "      <td>5.859569</td>\n",
       "      <td>10.170124</td>\n",
       "      <td>13.979041</td>\n",
       "      <td>33.822857</td>\n",
       "    </tr>\n",
       "    <tr>\n",
       "      <th>min</th>\n",
       "      <td>10.000000</td>\n",
       "      <td>136.000000</td>\n",
       "      <td>28.000000</td>\n",
       "      <td>1896.000000</td>\n",
       "    </tr>\n",
       "    <tr>\n",
       "      <th>25%</th>\n",
       "      <td>22.000000</td>\n",
       "      <td>170.000000</td>\n",
       "      <td>64.000000</td>\n",
       "      <td>1952.000000</td>\n",
       "    </tr>\n",
       "    <tr>\n",
       "      <th>50%</th>\n",
       "      <td>25.000000</td>\n",
       "      <td>177.480000</td>\n",
       "      <td>73.000000</td>\n",
       "      <td>1984.000000</td>\n",
       "    </tr>\n",
       "    <tr>\n",
       "      <th>75%</th>\n",
       "      <td>29.000000</td>\n",
       "      <td>184.000000</td>\n",
       "      <td>82.000000</td>\n",
       "      <td>2002.000000</td>\n",
       "    </tr>\n",
       "    <tr>\n",
       "      <th>max</th>\n",
       "      <td>73.000000</td>\n",
       "      <td>223.000000</td>\n",
       "      <td>182.000000</td>\n",
       "      <td>2016.000000</td>\n",
       "    </tr>\n",
       "  </tbody>\n",
       "</table>\n",
       "</div>"
      ],
      "text/plain": [
       "                yas           boy          kilo           yil\n",
       "count  39783.000000  39783.000000  39783.000000  39783.000000\n",
       "mean      25.918456    177.336690     73.738320   1973.943845\n",
       "std        5.859569     10.170124     13.979041     33.822857\n",
       "min       10.000000    136.000000     28.000000   1896.000000\n",
       "25%       22.000000    170.000000     64.000000   1952.000000\n",
       "50%       25.000000    177.480000     73.000000   1984.000000\n",
       "75%       29.000000    184.000000     82.000000   2002.000000\n",
       "max       73.000000    223.000000    182.000000   2016.000000"
      ]
     },
     "execution_count": 18,
     "metadata": {},
     "output_type": "execute_result"
    }
   ],
   "source": [
    "#verinin genel istatitiksel özellikleri\n",
    "veri.describe()"
   ]
  },
  {
   "cell_type": "markdown",
   "id": "bb616e90-5fee-4b9b-b7c0-1ea6773ed5a2",
   "metadata": {},
   "source": [
    "### Yaş değişkeni için kutu grafiği çizdim"
   ]
  },
  {
   "cell_type": "code",
   "execution_count": 19,
   "id": "fb2f1708-3da0-47dc-bcdc-546e54c83c54",
   "metadata": {},
   "outputs": [
    {
     "data": {
      "image/png": "[encoded data removed]",
      "text/plain": [
       "<Figure size 640x480 with 1 Axes>"
      ]
     },
     "metadata": {},
     "output_type": "display_data"
    }
   ],
   "source": [
    "#yaş değişkeni için kutu grafiği\n",
    "plt.boxplot(veri.yas)\n",
    "plt.title(\"Yaş Değişkeni için kutu grafiği\")\n",
    "plt.xlabel(\"Yaş\")\n",
    "plt.ylabel(\"Değer\")\n",
    "plt.show()"
   ]
  },
  {
   "cell_type": "markdown",
   "id": "36c383cb-c3d7-442a-bed9-208fb77f101a",
   "metadata": {},
   "source": [
    "### kategorik değişkenler için çabuk grafiği çizen fonk."
   ]
  },
  {
   "cell_type": "code",
   "execution_count": 20,
   "id": "1aad8dc1-fbb9-44f8-8448-35a962a420af",
   "metadata": {},
   "outputs": [],
   "source": [
    "#kategorik değişkenler\n",
    "#çubuk grafiği metodu\n",
    "def plotBar(degisken, n=5):\n",
    "    \"\"\"\n",
    "    Girdi : değişken/sütun adı\n",
    "    n = gösterilecek eşsiz değer sayısı\n",
    "    Çıktı: Çabuk Grafiği\n",
    "    \"\"\"\n",
    "    veri_ = veri[degisken]\n",
    "    veri_sayma = veri_.value_counts() #value_counts fonksiyonu npye özel\n",
    "    #eşsiz değişkenlerı bulan bir fonksiyondur bir nevi dict olarak düşünebilirsin\n",
    "    veri_sayma = veri_sayma[:n]\n",
    "    plt.figure()\n",
    "    plt.bar(veri_sayma.index, veri_sayma, color = \"orange\")\n",
    "    plt.xticks(veri_sayma.index, veri_sayma.values)\n",
    "    plt.xticks(rotation = 45)\n",
    "    plt.ylabel = (\"Frekans\")\n",
    "    plt.title(\"Veri sıklığı - {}\".format(degisken))\n",
    "    plt.show()\n",
    "    print(\"{} : \\n {}\".format(degisken, veri_sayma))"
   ]
  },
  {
   "cell_type": "markdown",
   "id": "de5624ae-1e93-444f-af07-b6dd85c62491",
   "metadata": {},
   "source": [
    "### Çubuk garfiğinin çizilmesi"
   ]
  },
  {
   "cell_type": "code",
   "execution_count": 21,
   "id": "5728e734-aa24-487a-9216-afdcac65d144",
   "metadata": {},
   "outputs": [
    {
     "data": {
      "image/png": "[encoded data removed]",
      "text/plain": [
       "<Figure size 640x480 with 1 Axes>"
      ]
     },
     "metadata": {},
     "output_type": "display_data"
    },
    {
     "name": "stdout",
     "output_type": "stream",
     "text": [
      "isim : \n",
      " isim\n",
      "Michael Fred Phelps, II               28\n",
      "Larysa Semenivna Latynina (Diriy-)    18\n",
      "Nikolay Yefimovich Andrianov          15\n",
      "Ole Einar Bjrndalen                   13\n",
      "Edoardo Mangiarotti                   13\n",
      "Name: count, dtype: int64\n"
     ]
    },
    {
     "data": {
      "image/png": "[encoded data removed]",
      "text/plain": [
       "<Figure size 640x480 with 1 Axes>"
      ]
     },
     "metadata": {},
     "output_type": "display_data"
    },
    {
     "name": "stdout",
     "output_type": "stream",
     "text": [
      "cinsiyet : \n",
      " cinsiyet\n",
      "M    28530\n",
      "F    11253\n",
      "Name: count, dtype: int64\n"
     ]
    },
    {
     "data": {
      "image/png": "[encoded data removed]",
      "text/plain": [
       "<Figure size 640x480 with 1 Axes>"
      ]
     },
     "metadata": {},
     "output_type": "display_data"
    },
    {
     "name": "stdout",
     "output_type": "stream",
     "text": [
      "takim : \n",
      " takim\n",
      "United States    5219\n",
      "Soviet Union     2451\n",
      "Germany          1984\n",
      "Great Britain    1673\n",
      "France           1550\n",
      "Name: count, dtype: int64\n"
     ]
    },
    {
     "data": {
      "image/png": "[encoded data removed]",
      "text/plain": [
       "<Figure size 640x480 with 1 Axes>"
      ]
     },
     "metadata": {},
     "output_type": "display_data"
    },
    {
     "name": "stdout",
     "output_type": "stream",
     "text": [
      "uok : \n",
      " uok\n",
      "USA    5637\n",
      "URS    2503\n",
      "GER    2165\n",
      "GBR    2068\n",
      "FRA    1777\n",
      "Name: count, dtype: int64\n"
     ]
    },
    {
     "data": {
      "image/png": "[encoded data removed]",
      "text/plain": [
       "<Figure size 640x480 with 1 Axes>"
      ]
     },
     "metadata": {},
     "output_type": "display_data"
    },
    {
     "name": "stdout",
     "output_type": "stream",
     "text": [
      "sezon : \n",
      " sezon\n",
      "Summer    34088\n",
      "Winter     5695\n",
      "Name: count, dtype: int64\n"
     ]
    },
    {
     "data": {
      "image/png": "[encoded data removed]",
      "text/plain": [
       "<Figure size 640x480 with 1 Axes>"
      ]
     },
     "metadata": {},
     "output_type": "display_data"
    },
    {
     "name": "stdout",
     "output_type": "stream",
     "text": [
      "sehir : \n",
      " sehir\n",
      "London            3624\n",
      "Athina            2602\n",
      "Los Angeles       2123\n",
      "Beijing           2048\n",
      "Rio de Janeiro    2023\n",
      "Name: count, dtype: int64\n"
     ]
    },
    {
     "data": {
      "image/png": "[encoded data removed]",
      "text/plain": [
       "<Figure size 640x480 with 1 Axes>"
      ]
     },
     "metadata": {},
     "output_type": "display_data"
    },
    {
     "name": "stdout",
     "output_type": "stream",
     "text": [
      "spor : \n",
      " spor\n",
      "Athletics     3969\n",
      "Swimming      3048\n",
      "Rowing        2945\n",
      "Gymnastics    2256\n",
      "Fencing       1743\n",
      "Name: count, dtype: int64\n"
     ]
    },
    {
     "data": {
      "image/png": "[encoded data removed]",
      "text/plain": [
       "<Figure size 640x480 with 1 Axes>"
      ]
     },
     "metadata": {},
     "output_type": "display_data"
    },
    {
     "name": "stdout",
     "output_type": "stream",
     "text": [
      "etkinlik : \n",
      " etkinlik\n",
      "Football Men's Football        1269\n",
      "Ice Hockey Men's Ice Hockey    1230\n",
      "Hockey Men's Hockey            1050\n",
      "Water Polo Men's Water Polo     866\n",
      "Rowing Men's Coxed Eights       730\n",
      "Name: count, dtype: int64\n"
     ]
    },
    {
     "data": {
      "image/png": "[encoded data removed]",
      "text/plain": [
       "<Figure size 640x480 with 1 Axes>"
      ]
     },
     "metadata": {},
     "output_type": "display_data"
    },
    {
     "name": "stdout",
     "output_type": "stream",
     "text": [
      "madalya : \n",
      " madalya\n",
      "Gold      13372\n",
      "Bronze    13295\n",
      "Silver    13116\n",
      "Name: count, dtype: int64\n"
     ]
    }
   ],
   "source": [
    "kategorik_degisken = [\"isim\", \"cinsiyet\", \"takim\", \"uok\", \"sezon\", \"sehir\", \"spor\", \"etkinlik\", \"madalya\"]\n",
    "for i in kategorik_degisken:\n",
    "    plotBar(i)"
   ]
  },
  {
   "cell_type": "markdown",
   "id": "e2db47d3-08e4-414b-810d-268687dd5718",
   "metadata": {},
   "source": [
    "### Cinsiyete Göre Boy ve Kilo Ağırlıklarının Karşılıştırılması"
   ]
  },
  {
   "cell_type": "code",
   "execution_count": 22,
   "id": "7481cf8b-a114-4747-b566-b200d8b2b7ed",
   "metadata": {},
   "outputs": [
    {
     "data": {
      "text/html": [
       "<div>\n",
       "<style scoped>\n",
       "    .dataframe tbody tr th:only-of-type {\n",
       "        vertical-align: middle;\n",
       "    }\n",
       "\n",
       "    .dataframe tbody tr th {\n",
       "        vertical-align: top;\n",
       "    }\n",
       "\n",
       "    .dataframe thead th {\n",
       "        text-align: right;\n",
       "    }\n",
       "</style>\n",
       "<table border=\"1\" class=\"dataframe\">\n",
       "  <thead>\n",
       "    <tr style=\"text-align: right;\">\n",
       "      <th></th>\n",
       "      <th>isim</th>\n",
       "      <th>cinsiyet</th>\n",
       "      <th>yas</th>\n",
       "      <th>boy</th>\n",
       "      <th>kilo</th>\n",
       "      <th>takim</th>\n",
       "      <th>uok</th>\n",
       "      <th>yil</th>\n",
       "      <th>sezon</th>\n",
       "      <th>sehir</th>\n",
       "      <th>spor</th>\n",
       "      <th>etkinlik</th>\n",
       "      <th>madalya</th>\n",
       "    </tr>\n",
       "  </thead>\n",
       "  <tbody>\n",
       "    <tr>\n",
       "      <th>3</th>\n",
       "      <td>Edgar Lindenau Aabye</td>\n",
       "      <td>M</td>\n",
       "      <td>34.0</td>\n",
       "      <td>182.48</td>\n",
       "      <td>95.62</td>\n",
       "      <td>Denmark/Sweden</td>\n",
       "      <td>DEN</td>\n",
       "      <td>1900</td>\n",
       "      <td>Summer</td>\n",
       "      <td>Paris</td>\n",
       "      <td>Tug-Of-War</td>\n",
       "      <td>Tug-Of-War Men's Tug-Of-War</td>\n",
       "      <td>Gold</td>\n",
       "    </tr>\n",
       "    <tr>\n",
       "      <th>37</th>\n",
       "      <td>Arvo Ossian Aaltonen</td>\n",
       "      <td>M</td>\n",
       "      <td>30.0</td>\n",
       "      <td>182.01</td>\n",
       "      <td>76.69</td>\n",
       "      <td>Finland</td>\n",
       "      <td>FIN</td>\n",
       "      <td>1920</td>\n",
       "      <td>Summer</td>\n",
       "      <td>Antwerpen</td>\n",
       "      <td>Swimming</td>\n",
       "      <td>Swimming Men's 200 metres Breaststroke</td>\n",
       "      <td>Bronze</td>\n",
       "    </tr>\n",
       "  </tbody>\n",
       "</table>\n",
       "</div>"
      ],
      "text/plain": [
       "                    isim cinsiyet   yas     boy   kilo           takim  uok  \\\n",
       "3   Edgar Lindenau Aabye        M  34.0  182.48  95.62  Denmark/Sweden  DEN   \n",
       "37  Arvo Ossian Aaltonen        M  30.0  182.01  76.69         Finland  FIN   \n",
       "\n",
       "     yil   sezon      sehir        spor  \\\n",
       "3   1900  Summer      Paris  Tug-Of-War   \n",
       "37  1920  Summer  Antwerpen    Swimming   \n",
       "\n",
       "                                  etkinlik madalya  \n",
       "3              Tug-Of-War Men's Tug-Of-War    Gold  \n",
       "37  Swimming Men's 200 metres Breaststroke  Bronze  "
      ]
     },
     "execution_count": 22,
     "metadata": {},
     "output_type": "execute_result"
    }
   ],
   "source": [
    "#cinsiyete göre Boy ve Kilo Ağrılıklarının karşılaştırılması\n",
    "#erkek\n",
    "erkek = veri[veri.cinsiyet == 'M']\n",
    "erkek.head(2)"
   ]
  },
  {
   "cell_type": "code",
   "execution_count": 23,
   "id": "d4fc17d3-dc2d-4334-a44a-3934368ba304",
   "metadata": {},
   "outputs": [
    {
     "data": {
      "text/html": [
       "<div>\n",
       "<style scoped>\n",
       "    .dataframe tbody tr th:only-of-type {\n",
       "        vertical-align: middle;\n",
       "    }\n",
       "\n",
       "    .dataframe tbody tr th {\n",
       "        vertical-align: top;\n",
       "    }\n",
       "\n",
       "    .dataframe thead th {\n",
       "        text-align: right;\n",
       "    }\n",
       "</style>\n",
       "<table border=\"1\" class=\"dataframe\">\n",
       "  <thead>\n",
       "    <tr style=\"text-align: right;\">\n",
       "      <th></th>\n",
       "      <th>isim</th>\n",
       "      <th>cinsiyet</th>\n",
       "      <th>yas</th>\n",
       "      <th>boy</th>\n",
       "      <th>kilo</th>\n",
       "      <th>takim</th>\n",
       "      <th>uok</th>\n",
       "      <th>yil</th>\n",
       "      <th>sezon</th>\n",
       "      <th>sehir</th>\n",
       "      <th>spor</th>\n",
       "      <th>etkinlik</th>\n",
       "      <th>madalya</th>\n",
       "    </tr>\n",
       "  </thead>\n",
       "  <tbody>\n",
       "    <tr>\n",
       "      <th>79</th>\n",
       "      <td>Ragnhild Margrethe Aamodt</td>\n",
       "      <td>F</td>\n",
       "      <td>27.0</td>\n",
       "      <td>163.00</td>\n",
       "      <td>68.88</td>\n",
       "      <td>Norway</td>\n",
       "      <td>NOR</td>\n",
       "      <td>2008</td>\n",
       "      <td>Summer</td>\n",
       "      <td>Beijing</td>\n",
       "      <td>Handball</td>\n",
       "      <td>Handball Women's Handball</td>\n",
       "      <td>Gold</td>\n",
       "    </tr>\n",
       "    <tr>\n",
       "      <th>91</th>\n",
       "      <td>Willemien Aardenburg</td>\n",
       "      <td>F</td>\n",
       "      <td>22.0</td>\n",
       "      <td>166.13</td>\n",
       "      <td>60.53</td>\n",
       "      <td>Netherlands</td>\n",
       "      <td>NED</td>\n",
       "      <td>1988</td>\n",
       "      <td>Summer</td>\n",
       "      <td>Seoul</td>\n",
       "      <td>Hockey</td>\n",
       "      <td>Hockey Women's Hockey</td>\n",
       "      <td>Bronze</td>\n",
       "    </tr>\n",
       "  </tbody>\n",
       "</table>\n",
       "</div>"
      ],
      "text/plain": [
       "                         isim cinsiyet   yas     boy   kilo        takim  uok  \\\n",
       "79  Ragnhild Margrethe Aamodt        F  27.0  163.00  68.88       Norway  NOR   \n",
       "91       Willemien Aardenburg        F  22.0  166.13  60.53  Netherlands  NED   \n",
       "\n",
       "     yil   sezon    sehir      spor                   etkinlik madalya  \n",
       "79  2008  Summer  Beijing  Handball  Handball Women's Handball    Gold  \n",
       "91  1988  Summer    Seoul    Hockey      Hockey Women's Hockey  Bronze  "
      ]
     },
     "execution_count": 23,
     "metadata": {},
     "output_type": "execute_result"
    }
   ],
   "source": [
    "#Cinsiyete göre Boy ve Ağırlık karşılaştırması\n",
    "#kadın\n",
    "kadin = veri[veri.cinsiyet == 'F']\n",
    "kadin.head(2)"
   ]
  },
  {
   "cell_type": "markdown",
   "id": "b5484656-be2d-4239-8008-35ad6fea705f",
   "metadata": {},
   "source": [
    "### Boy ve Ağırlıklarının Karşılaştırma Grafiği"
   ]
  },
  {
   "cell_type": "code",
   "execution_count": 24,
   "id": "408df5b0-8d01-4be4-a99e-27efcfbf9ee9",
   "metadata": {},
   "outputs": [
    {
     "data": {
      "image/png": "[encoded data removed]",
      "text/plain": [
       "<Figure size 640x480 with 1 Axes>"
      ]
     },
     "metadata": {},
     "output_type": "display_data"
    }
   ],
   "source": [
    "#Bot ve Ağırlık karşılaştırması grafiği\n",
    "plt.figure()\n",
    "plt.scatter(kadin.boy, kadin.kilo, alpha = 0.4, label = 'Kadın', color = \"orange\")\n",
    "plt.scatter(erkek.boy, erkek.kilo, alpha = 0.4, label = 'Erkek', color = 'blue')\n",
    "plt.xlabel(\"Boy\")\n",
    "plt.ylabel = (\"Kilo\")\n",
    "plt.title(\"Boy ve Kilo Arasındaki ilişki\")\n",
    "plt.legend()\n",
    "plt.show()"
   ]
  },
  {
   "cell_type": "markdown",
   "id": "155f4deb-b1c9-485a-8a93-3066f47454a4",
   "metadata": {},
   "source": [
    "### Sayısal Sütünlar Arası Korelasyon"
   ]
  },
  {
   "cell_type": "code",
   "execution_count": 25,
   "id": "a5f1d206-edb4-426b-a200-9669c6821302",
   "metadata": {},
   "outputs": [
    {
     "data": {
      "text/html": [
       "<div>\n",
       "<style scoped>\n",
       "    .dataframe tbody tr th:only-of-type {\n",
       "        vertical-align: middle;\n",
       "    }\n",
       "\n",
       "    .dataframe tbody tr th {\n",
       "        vertical-align: top;\n",
       "    }\n",
       "\n",
       "    .dataframe thead th {\n",
       "        text-align: right;\n",
       "    }\n",
       "</style>\n",
       "<table border=\"1\" class=\"dataframe\">\n",
       "  <thead>\n",
       "    <tr style=\"text-align: right;\">\n",
       "      <th></th>\n",
       "      <th>yas</th>\n",
       "      <th>boy</th>\n",
       "      <th>kilo</th>\n",
       "    </tr>\n",
       "  </thead>\n",
       "  <tbody>\n",
       "    <tr>\n",
       "      <th>yas</th>\n",
       "      <td>1.000000</td>\n",
       "      <td>0.061890</td>\n",
       "      <td>0.136349</td>\n",
       "    </tr>\n",
       "    <tr>\n",
       "      <th>boy</th>\n",
       "      <td>0.061890</td>\n",
       "      <td>1.000000</td>\n",
       "      <td>0.794368</td>\n",
       "    </tr>\n",
       "    <tr>\n",
       "      <th>kilo</th>\n",
       "      <td>0.136349</td>\n",
       "      <td>0.794368</td>\n",
       "      <td>1.000000</td>\n",
       "    </tr>\n",
       "  </tbody>\n",
       "</table>\n",
       "</div>"
      ],
      "text/plain": [
       "           yas       boy      kilo\n",
       "yas   1.000000  0.061890  0.136349\n",
       "boy   0.061890  1.000000  0.794368\n",
       "kilo  0.136349  0.794368  1.000000"
      ]
     },
     "execution_count": 25,
     "metadata": {},
     "output_type": "execute_result"
    }
   ],
   "source": [
    "#Sayısal sütünlar arası ilişki\n",
    "veri.loc[:,[\"yas\", \"boy\", \"kilo\"]].corr()"
   ]
  },
  {
   "cell_type": "markdown",
   "id": "53ca3caf-2b25-4ce9-9ed3-c36205ade9ad",
   "metadata": {},
   "source": [
    "### Madalya Türüne Göre Yeni Sütunların Eklenmesi"
   ]
  },
  {
   "cell_type": "code",
   "execution_count": 26,
   "id": "3bb23707-bd0c-4731-b3b6-521d16cd246c",
   "metadata": {},
   "outputs": [
    {
     "data": {
      "text/html": [
       "<div>\n",
       "<style scoped>\n",
       "    .dataframe tbody tr th:only-of-type {\n",
       "        vertical-align: middle;\n",
       "    }\n",
       "\n",
       "    .dataframe tbody tr th {\n",
       "        vertical-align: top;\n",
       "    }\n",
       "\n",
       "    .dataframe thead th {\n",
       "        text-align: right;\n",
       "    }\n",
       "</style>\n",
       "<table border=\"1\" class=\"dataframe\">\n",
       "  <thead>\n",
       "    <tr style=\"text-align: right;\">\n",
       "      <th></th>\n",
       "      <th>isim</th>\n",
       "      <th>cinsiyet</th>\n",
       "      <th>yas</th>\n",
       "      <th>boy</th>\n",
       "      <th>kilo</th>\n",
       "      <th>takim</th>\n",
       "      <th>uok</th>\n",
       "      <th>yil</th>\n",
       "      <th>sezon</th>\n",
       "      <th>sehir</th>\n",
       "      <th>spor</th>\n",
       "      <th>etkinlik</th>\n",
       "      <th>madalya_Bronze</th>\n",
       "      <th>madalya_Gold</th>\n",
       "      <th>madalya_Silver</th>\n",
       "    </tr>\n",
       "  </thead>\n",
       "  <tbody>\n",
       "    <tr>\n",
       "      <th>3</th>\n",
       "      <td>Edgar Lindenau Aabye</td>\n",
       "      <td>M</td>\n",
       "      <td>34.0</td>\n",
       "      <td>182.48</td>\n",
       "      <td>95.62</td>\n",
       "      <td>Denmark/Sweden</td>\n",
       "      <td>DEN</td>\n",
       "      <td>1900</td>\n",
       "      <td>Summer</td>\n",
       "      <td>Paris</td>\n",
       "      <td>Tug-Of-War</td>\n",
       "      <td>Tug-Of-War Men's Tug-Of-War</td>\n",
       "      <td>False</td>\n",
       "      <td>True</td>\n",
       "      <td>False</td>\n",
       "    </tr>\n",
       "    <tr>\n",
       "      <th>37</th>\n",
       "      <td>Arvo Ossian Aaltonen</td>\n",
       "      <td>M</td>\n",
       "      <td>30.0</td>\n",
       "      <td>182.01</td>\n",
       "      <td>76.69</td>\n",
       "      <td>Finland</td>\n",
       "      <td>FIN</td>\n",
       "      <td>1920</td>\n",
       "      <td>Summer</td>\n",
       "      <td>Antwerpen</td>\n",
       "      <td>Swimming</td>\n",
       "      <td>Swimming Men's 200 metres Breaststroke</td>\n",
       "      <td>True</td>\n",
       "      <td>False</td>\n",
       "      <td>False</td>\n",
       "    </tr>\n",
       "  </tbody>\n",
       "</table>\n",
       "</div>"
      ],
      "text/plain": [
       "                    isim cinsiyet   yas     boy   kilo           takim  uok  \\\n",
       "3   Edgar Lindenau Aabye        M  34.0  182.48  95.62  Denmark/Sweden  DEN   \n",
       "37  Arvo Ossian Aaltonen        M  30.0  182.01  76.69         Finland  FIN   \n",
       "\n",
       "     yil   sezon      sehir        spor  \\\n",
       "3   1900  Summer      Paris  Tug-Of-War   \n",
       "37  1920  Summer  Antwerpen    Swimming   \n",
       "\n",
       "                                  etkinlik  madalya_Bronze  madalya_Gold  \\\n",
       "3              Tug-Of-War Men's Tug-Of-War           False          True   \n",
       "37  Swimming Men's 200 metres Breaststroke            True         False   \n",
       "\n",
       "    madalya_Silver  \n",
       "3            False  \n",
       "37           False  "
      ]
     },
     "execution_count": 26,
     "metadata": {},
     "output_type": "execute_result"
    }
   ],
   "source": [
    "#madalya yaş ilişkisi\n",
    "#get_dummies() fonksiyonu, kategorik verileri sayısal (numeric) hale getirir.\n",
    "#Yani One-Hot Encoding yapar.\n",
    "veri_gecici = veri.copy()\n",
    "veri_gecici = pd.get_dummies(veri_gecici, columns = [\"madalya\"])\n",
    "veri_gecici.head(2)"
   ]
  },
  {
   "cell_type": "markdown",
   "id": "1685da4c-8401-4f09-902e-07ad74a5b88b",
   "metadata": {},
   "source": [
    "### Madalya Yaş Korelasyonu"
   ]
  },
  {
   "cell_type": "code",
   "execution_count": 27,
   "id": "9d44f6fc-c62c-469d-809e-ef2d550786e0",
   "metadata": {},
   "outputs": [
    {
     "data": {
      "text/html": [
       "<div>\n",
       "<style scoped>\n",
       "    .dataframe tbody tr th:only-of-type {\n",
       "        vertical-align: middle;\n",
       "    }\n",
       "\n",
       "    .dataframe tbody tr th {\n",
       "        vertical-align: top;\n",
       "    }\n",
       "\n",
       "    .dataframe thead th {\n",
       "        text-align: right;\n",
       "    }\n",
       "</style>\n",
       "<table border=\"1\" class=\"dataframe\">\n",
       "  <thead>\n",
       "    <tr style=\"text-align: right;\">\n",
       "      <th></th>\n",
       "      <th>yas</th>\n",
       "      <th>madalya_Bronze</th>\n",
       "      <th>madalya_Silver</th>\n",
       "      <th>madalya_Gold</th>\n",
       "    </tr>\n",
       "  </thead>\n",
       "  <tbody>\n",
       "    <tr>\n",
       "      <th>yas</th>\n",
       "      <td>1.000000</td>\n",
       "      <td>-0.005584</td>\n",
       "      <td>0.008192</td>\n",
       "      <td>-0.002576</td>\n",
       "    </tr>\n",
       "    <tr>\n",
       "      <th>madalya_Bronze</th>\n",
       "      <td>-0.005584</td>\n",
       "      <td>1.000000</td>\n",
       "      <td>-0.496859</td>\n",
       "      <td>-0.504110</td>\n",
       "    </tr>\n",
       "    <tr>\n",
       "      <th>madalya_Silver</th>\n",
       "      <td>0.008192</td>\n",
       "      <td>-0.496859</td>\n",
       "      <td>1.000000</td>\n",
       "      <td>-0.499022</td>\n",
       "    </tr>\n",
       "    <tr>\n",
       "      <th>madalya_Gold</th>\n",
       "      <td>-0.002576</td>\n",
       "      <td>-0.504110</td>\n",
       "      <td>-0.499022</td>\n",
       "      <td>1.000000</td>\n",
       "    </tr>\n",
       "  </tbody>\n",
       "</table>\n",
       "</div>"
      ],
      "text/plain": [
       "                     yas  madalya_Bronze  madalya_Silver  madalya_Gold\n",
       "yas             1.000000       -0.005584        0.008192     -0.002576\n",
       "madalya_Bronze -0.005584        1.000000       -0.496859     -0.504110\n",
       "madalya_Silver  0.008192       -0.496859        1.000000     -0.499022\n",
       "madalya_Gold   -0.002576       -0.504110       -0.499022      1.000000"
      ]
     },
     "execution_count": 27,
     "metadata": {},
     "output_type": "execute_result"
    }
   ],
   "source": [
    "#Madalaya Yaş İlişkisi\n",
    "veri_gecici.loc[:,[\"yas\", \"madalya_Bronze\", \"madalya_Silver\", \"madalya_Gold\"]].corr()"
   ]
  },
  {
   "cell_type": "markdown",
   "id": "ff09dbdd-e3e0-4ae8-ae2a-9f62d6515492",
   "metadata": {},
   "source": [
    "### Takım Bazında Ayrıştırma"
   ]
  },
  {
   "cell_type": "code",
   "execution_count": 28,
   "id": "d489a9c6-d3ee-45e7-87e6-050f3d94cbf5",
   "metadata": {},
   "outputs": [
    {
     "data": {
      "text/html": [
       "<div>\n",
       "<style scoped>\n",
       "    .dataframe tbody tr th:only-of-type {\n",
       "        vertical-align: middle;\n",
       "    }\n",
       "\n",
       "    .dataframe tbody tr th {\n",
       "        vertical-align: top;\n",
       "    }\n",
       "\n",
       "    .dataframe thead th {\n",
       "        text-align: right;\n",
       "    }\n",
       "</style>\n",
       "<table border=\"1\" class=\"dataframe\">\n",
       "  <thead>\n",
       "    <tr style=\"text-align: right;\">\n",
       "      <th></th>\n",
       "      <th>takim</th>\n",
       "      <th>madalya_Bronze</th>\n",
       "      <th>madalya_Silver</th>\n",
       "      <th>madalya_Gold</th>\n",
       "    </tr>\n",
       "  </thead>\n",
       "  <tbody>\n",
       "    <tr>\n",
       "      <th>462</th>\n",
       "      <td>United States</td>\n",
       "      <td>1233</td>\n",
       "      <td>1512</td>\n",
       "      <td>2474</td>\n",
       "    </tr>\n",
       "    <tr>\n",
       "      <th>403</th>\n",
       "      <td>Soviet Union</td>\n",
       "      <td>677</td>\n",
       "      <td>716</td>\n",
       "      <td>1058</td>\n",
       "    </tr>\n",
       "    <tr>\n",
       "      <th>165</th>\n",
       "      <td>Germany</td>\n",
       "      <td>678</td>\n",
       "      <td>627</td>\n",
       "      <td>679</td>\n",
       "    </tr>\n",
       "    <tr>\n",
       "      <th>215</th>\n",
       "      <td>Italy</td>\n",
       "      <td>484</td>\n",
       "      <td>508</td>\n",
       "      <td>535</td>\n",
       "    </tr>\n",
       "    <tr>\n",
       "      <th>171</th>\n",
       "      <td>Great Britain</td>\n",
       "      <td>572</td>\n",
       "      <td>582</td>\n",
       "      <td>519</td>\n",
       "    </tr>\n",
       "    <tr>\n",
       "      <th>149</th>\n",
       "      <td>France</td>\n",
       "      <td>577</td>\n",
       "      <td>518</td>\n",
       "      <td>455</td>\n",
       "    </tr>\n",
       "    <tr>\n",
       "      <th>420</th>\n",
       "      <td>Sweden</td>\n",
       "      <td>507</td>\n",
       "      <td>476</td>\n",
       "      <td>451</td>\n",
       "    </tr>\n",
       "    <tr>\n",
       "      <th>198</th>\n",
       "      <td>Hungary</td>\n",
       "      <td>365</td>\n",
       "      <td>330</td>\n",
       "      <td>432</td>\n",
       "    </tr>\n",
       "    <tr>\n",
       "      <th>67</th>\n",
       "      <td>Canada</td>\n",
       "      <td>408</td>\n",
       "      <td>413</td>\n",
       "      <td>422</td>\n",
       "    </tr>\n",
       "    <tr>\n",
       "      <th>117</th>\n",
       "      <td>East Germany</td>\n",
       "      <td>263</td>\n",
       "      <td>309</td>\n",
       "      <td>369</td>\n",
       "    </tr>\n",
       "  </tbody>\n",
       "</table>\n",
       "</div>"
      ],
      "text/plain": [
       "             takim  madalya_Bronze  madalya_Silver  madalya_Gold\n",
       "462  United States            1233            1512          2474\n",
       "403   Soviet Union             677             716          1058\n",
       "165        Germany             678             627           679\n",
       "215          Italy             484             508           535\n",
       "171  Great Britain             572             582           519\n",
       "149         France             577             518           455\n",
       "420         Sweden             507             476           451\n",
       "198        Hungary             365             330           432\n",
       "67          Canada             408             413           422\n",
       "117   East Germany             263             309           369"
      ]
     },
     "execution_count": 28,
     "metadata": {},
     "output_type": "execute_result"
    }
   ],
   "source": [
    "#takım bazında ayrıştırma\n",
    "veri_gecici[[\"takim\", \"madalya_Bronze\", \"madalya_Silver\", \"madalya_Gold\"]].groupby([\"takim\"],\n",
    "    as_index = False).sum().sort_values(by = \"madalya_Gold\", ascending = False)[:10]\n",
    "#ascending=False demek altın madalyadan başlar ve küçükten büyüğe doğru sıralar\n",
    "#gerçek veriyi kopyaladığımız veri_gecici verisinin yukarıda belirtilen kolonları aldık\n",
    "#onları -takım- denen gruba grupladık ve as_index kısmını yani satır değil bunu bir kolon olarak alınmasını\n",
    "#istedik sonra bunları altın madalyaya göre sıralıyarak ilk 10nunu aldık"
   ]
  },
  {
   "cell_type": "markdown",
   "id": "77529043-abbd-47b4-9410-6a3ff907696f",
   "metadata": {},
   "source": [
    "### Şehir Bazında Kazanılan Madalyalar"
   ]
  },
  {
   "cell_type": "code",
   "execution_count": 29,
   "id": "79858556-5755-4e83-a056-4ae3b5faaf83",
   "metadata": {},
   "outputs": [
    {
     "data": {
      "text/html": [
       "<div>\n",
       "<style scoped>\n",
       "    .dataframe tbody tr th:only-of-type {\n",
       "        vertical-align: middle;\n",
       "    }\n",
       "\n",
       "    .dataframe tbody tr th {\n",
       "        vertical-align: top;\n",
       "    }\n",
       "\n",
       "    .dataframe thead th {\n",
       "        text-align: right;\n",
       "    }\n",
       "</style>\n",
       "<table border=\"1\" class=\"dataframe\">\n",
       "  <thead>\n",
       "    <tr style=\"text-align: right;\">\n",
       "      <th></th>\n",
       "      <th>sehir</th>\n",
       "      <th>madalya_Bronze</th>\n",
       "      <th>madalya_Silver</th>\n",
       "      <th>madalya_Gold</th>\n",
       "    </tr>\n",
       "  </thead>\n",
       "  <tbody>\n",
       "    <tr>\n",
       "      <th>17</th>\n",
       "      <td>London</td>\n",
       "      <td>1214</td>\n",
       "      <td>1195</td>\n",
       "      <td>1215</td>\n",
       "    </tr>\n",
       "    <tr>\n",
       "      <th>3</th>\n",
       "      <td>Athina</td>\n",
       "      <td>860</td>\n",
       "      <td>859</td>\n",
       "      <td>883</td>\n",
       "    </tr>\n",
       "    <tr>\n",
       "      <th>18</th>\n",
       "      <td>Los Angeles</td>\n",
       "      <td>706</td>\n",
       "      <td>691</td>\n",
       "      <td>726</td>\n",
       "    </tr>\n",
       "    <tr>\n",
       "      <th>6</th>\n",
       "      <td>Beijing</td>\n",
       "      <td>710</td>\n",
       "      <td>667</td>\n",
       "      <td>671</td>\n",
       "    </tr>\n",
       "    <tr>\n",
       "      <th>27</th>\n",
       "      <td>Rio de Janeiro</td>\n",
       "      <td>703</td>\n",
       "      <td>655</td>\n",
       "      <td>665</td>\n",
       "    </tr>\n",
       "    <tr>\n",
       "      <th>38</th>\n",
       "      <td>Sydney</td>\n",
       "      <td>680</td>\n",
       "      <td>661</td>\n",
       "      <td>663</td>\n",
       "    </tr>\n",
       "    <tr>\n",
       "      <th>4</th>\n",
       "      <td>Atlanta</td>\n",
       "      <td>629</td>\n",
       "      <td>605</td>\n",
       "      <td>608</td>\n",
       "    </tr>\n",
       "    <tr>\n",
       "      <th>5</th>\n",
       "      <td>Barcelona</td>\n",
       "      <td>604</td>\n",
       "      <td>549</td>\n",
       "      <td>559</td>\n",
       "    </tr>\n",
       "    <tr>\n",
       "      <th>33</th>\n",
       "      <td>Seoul</td>\n",
       "      <td>549</td>\n",
       "      <td>513</td>\n",
       "      <td>520</td>\n",
       "    </tr>\n",
       "    <tr>\n",
       "      <th>2</th>\n",
       "      <td>Antwerpen</td>\n",
       "      <td>367</td>\n",
       "      <td>448</td>\n",
       "      <td>493</td>\n",
       "    </tr>\n",
       "  </tbody>\n",
       "</table>\n",
       "</div>"
      ],
      "text/plain": [
       "             sehir  madalya_Bronze  madalya_Silver  madalya_Gold\n",
       "17          London            1214            1195          1215\n",
       "3           Athina             860             859           883\n",
       "18     Los Angeles             706             691           726\n",
       "6          Beijing             710             667           671\n",
       "27  Rio de Janeiro             703             655           665\n",
       "38          Sydney             680             661           663\n",
       "4          Atlanta             629             605           608\n",
       "5        Barcelona             604             549           559\n",
       "33           Seoul             549             513           520\n",
       "2        Antwerpen             367             448           493"
      ]
     },
     "execution_count": 29,
     "metadata": {},
     "output_type": "execute_result"
    }
   ],
   "source": [
    "#Şehir bazında kazanılan madalyalar\n",
    "veri_gecici[[\"sehir\", \"madalya_Bronze\", \"madalya_Silver\", \"madalya_Gold\"]].groupby([\"sehir\"], \n",
    "    as_index = False).sum().sort_values(by = 'madalya_Gold', ascending = False)[:10]"
   ]
  },
  {
   "cell_type": "markdown",
   "id": "507cbaa0-5b28-4c32-877b-cdeb110f190b",
   "metadata": {},
   "source": [
    "### Cinsiyete Göre Kazanılan Madalyalar"
   ]
  },
  {
   "cell_type": "code",
   "execution_count": 30,
   "id": "30e6eeec-5359-46e5-b679-55ed9cbb4737",
   "metadata": {},
   "outputs": [
    {
     "data": {
      "text/html": [
       "<div>\n",
       "<style scoped>\n",
       "    .dataframe tbody tr th:only-of-type {\n",
       "        vertical-align: middle;\n",
       "    }\n",
       "\n",
       "    .dataframe tbody tr th {\n",
       "        vertical-align: top;\n",
       "    }\n",
       "\n",
       "    .dataframe thead th {\n",
       "        text-align: right;\n",
       "    }\n",
       "</style>\n",
       "<table border=\"1\" class=\"dataframe\">\n",
       "  <thead>\n",
       "    <tr style=\"text-align: right;\">\n",
       "      <th></th>\n",
       "      <th>cinsiyet</th>\n",
       "      <th>madalya_Bronze</th>\n",
       "      <th>madalya_Silver</th>\n",
       "      <th>madalya_Gold</th>\n",
       "    </tr>\n",
       "  </thead>\n",
       "  <tbody>\n",
       "    <tr>\n",
       "      <th>1</th>\n",
       "      <td>M</td>\n",
       "      <td>9524</td>\n",
       "      <td>9381</td>\n",
       "      <td>9625</td>\n",
       "    </tr>\n",
       "    <tr>\n",
       "      <th>0</th>\n",
       "      <td>F</td>\n",
       "      <td>3771</td>\n",
       "      <td>3735</td>\n",
       "      <td>3747</td>\n",
       "    </tr>\n",
       "  </tbody>\n",
       "</table>\n",
       "</div>"
      ],
      "text/plain": [
       "  cinsiyet  madalya_Bronze  madalya_Silver  madalya_Gold\n",
       "1        M            9524            9381          9625\n",
       "0        F            3771            3735          3747"
      ]
     },
     "execution_count": 30,
     "metadata": {},
     "output_type": "execute_result"
    }
   ],
   "source": [
    "#Cinsiyete göre kazanılan madalyalar\n",
    "veri_gecici[[\"cinsiyet\",\"madalya_Bronze\",\"madalya_Silver\",\"madalya_Gold\"]].groupby([\"cinsiyet\"], \n",
    "    as_index = False).sum().sort_values(by = \"madalya_Gold\", ascending = False)[:10]"
   ]
  },
  {
   "cell_type": "markdown",
   "id": "bf451297-3ba3-4001-aefc-3e232df04aa4",
   "metadata": {},
   "source": [
    "### Pivot Tablo (Çok Değişkenli Veri Analizi)"
   ]
  },
  {
   "cell_type": "code",
   "execution_count": 31,
   "id": "2e655cfa-67a8-41df-b547-0e5cc219313f",
   "metadata": {},
   "outputs": [
    {
     "data": {
      "text/html": [
       "<div>\n",
       "<style scoped>\n",
       "    .dataframe tbody tr th:only-of-type {\n",
       "        vertical-align: middle;\n",
       "    }\n",
       "\n",
       "    .dataframe tbody tr th {\n",
       "        vertical-align: top;\n",
       "    }\n",
       "\n",
       "    .dataframe thead tr th {\n",
       "        text-align: left;\n",
       "    }\n",
       "\n",
       "    .dataframe thead tr:last-of-type th {\n",
       "        text-align: right;\n",
       "    }\n",
       "</style>\n",
       "<table border=\"1\" class=\"dataframe\">\n",
       "  <thead>\n",
       "    <tr>\n",
       "      <th></th>\n",
       "      <th colspan=\"2\" halign=\"left\">boy</th>\n",
       "      <th colspan=\"2\" halign=\"left\">kilo</th>\n",
       "      <th colspan=\"6\" halign=\"left\">yas</th>\n",
       "    </tr>\n",
       "    <tr>\n",
       "      <th></th>\n",
       "      <th colspan=\"2\" halign=\"left\">mean</th>\n",
       "      <th colspan=\"2\" halign=\"left\">mean</th>\n",
       "      <th colspan=\"2\" halign=\"left\">max</th>\n",
       "      <th colspan=\"2\" halign=\"left\">min</th>\n",
       "      <th colspan=\"2\" halign=\"left\">std</th>\n",
       "    </tr>\n",
       "    <tr>\n",
       "      <th>cinsiyet</th>\n",
       "      <th>F</th>\n",
       "      <th>M</th>\n",
       "      <th>F</th>\n",
       "      <th>M</th>\n",
       "      <th>F</th>\n",
       "      <th>M</th>\n",
       "      <th>F</th>\n",
       "      <th>M</th>\n",
       "      <th>F</th>\n",
       "      <th>M</th>\n",
       "    </tr>\n",
       "    <tr>\n",
       "      <th>madalya</th>\n",
       "      <th></th>\n",
       "      <th></th>\n",
       "      <th></th>\n",
       "      <th></th>\n",
       "      <th></th>\n",
       "      <th></th>\n",
       "      <th></th>\n",
       "      <th></th>\n",
       "      <th></th>\n",
       "      <th></th>\n",
       "    </tr>\n",
       "  </thead>\n",
       "  <tbody>\n",
       "    <tr>\n",
       "      <th>Bronze</th>\n",
       "      <td>170.003227</td>\n",
       "      <td>180.045806</td>\n",
       "      <td>62.757125</td>\n",
       "      <td>77.841504</td>\n",
       "      <td>69.0</td>\n",
       "      <td>72.0</td>\n",
       "      <td>12.0</td>\n",
       "      <td>10.0</td>\n",
       "      <td>5.329229</td>\n",
       "      <td>5.870340</td>\n",
       "    </tr>\n",
       "    <tr>\n",
       "      <th>Gold</th>\n",
       "      <td>170.448727</td>\n",
       "      <td>180.318906</td>\n",
       "      <td>63.199349</td>\n",
       "      <td>78.186505</td>\n",
       "      <td>63.0</td>\n",
       "      <td>64.0</td>\n",
       "      <td>13.0</td>\n",
       "      <td>13.0</td>\n",
       "      <td>5.219615</td>\n",
       "      <td>5.987807</td>\n",
       "    </tr>\n",
       "    <tr>\n",
       "      <th>Silver</th>\n",
       "      <td>170.233783</td>\n",
       "      <td>180.053626</td>\n",
       "      <td>62.866892</td>\n",
       "      <td>77.960887</td>\n",
       "      <td>55.0</td>\n",
       "      <td>73.0</td>\n",
       "      <td>11.0</td>\n",
       "      <td>13.0</td>\n",
       "      <td>5.253111</td>\n",
       "      <td>6.098221</td>\n",
       "    </tr>\n",
       "  </tbody>\n",
       "</table>\n",
       "</div>"
      ],
      "text/plain": [
       "                 boy                   kilo              yas              \\\n",
       "                mean                   mean              max         min   \n",
       "cinsiyet           F           M          F          M     F     M     F   \n",
       "madalya                                                                    \n",
       "Bronze    170.003227  180.045806  62.757125  77.841504  69.0  72.0  12.0   \n",
       "Gold      170.448727  180.318906  63.199349  78.186505  63.0  64.0  13.0   \n",
       "Silver    170.233783  180.053626  62.866892  77.960887  55.0  73.0  11.0   \n",
       "\n",
       "                                    \n",
       "                     std            \n",
       "cinsiyet     M         F         M  \n",
       "madalya                             \n",
       "Bronze    10.0  5.329229  5.870340  \n",
       "Gold      13.0  5.219615  5.987807  \n",
       "Silver    13.0  5.253111  6.098221  "
      ]
     },
     "execution_count": 31,
     "metadata": {},
     "output_type": "execute_result"
    }
   ],
   "source": [
    "#Çok değişkenli veri analizi\n",
    "#pivot tablo\n",
    "#pivot_table ve aggfunc pandasa ait fonksiyonlar\n",
    "#pivot_table, veriyi özetlemek ve gruplamak için kullanılır.\n",
    "#index\tSatırları hangi kategoriye göre gruplayacağını belirtir.\n",
    "#columns\tSütunları hangi kategoriye göre ayıracağını belirtir.\n",
    "#values\tHesaplama yapılacak sayısal sütun(lar).\n",
    "#aggfunc\tHangi özetleme işleminin yapılacağı (örneğin: mean, sum, min, max).\n",
    "\n",
    "veri_pivot = veri.pivot_table(\n",
    "    index = \"madalya\", \n",
    "    columns = \"cinsiyet\",\n",
    "    values = [\"boy\", \"kilo\", \"yas\"],\n",
    "    aggfunc = {\n",
    "        \"boy\" : \"mean\", \n",
    "        \"kilo\" : \"mean\", \n",
    "        \"yas\": [\"min\", \"max\", \"std\"]})\n",
    "veri_pivot.head()\n",
    "#aggfunc, aggregate function (toplulaştırma fonksiyonu) kelimesinin kısaltmasıdır.\n",
    "#pivot_table kullanırken, sayısal veriler üzerinde hangi özet işlemin yapılacağını belirtmek için kullanılır.pivot_table kullanırken, sayısal veriler üzerinde hangi özet işlemin yapılacağını belirtmek için kullanılır.\n",
    "#np.std standart sapma fonksiyonudur. Standart sapma, verilerin ortalama etrafında nasıl dağıldığını gösteren bir ölçüdür."
   ]
  },
  {
   "cell_type": "markdown",
   "id": "22f7a55e-de37-4bff-973b-5e4d20550921",
   "metadata": {},
   "source": [
    "### Anomali Tesbiti ve Aykırı Değerler İçin Bir Fonskiyon"
   ]
  },
  {
   "cell_type": "code",
   "execution_count": 32,
   "id": "8a5e4b13-e6c8-4cc6-b9ca-58e94c16fb2f",
   "metadata": {},
   "outputs": [],
   "source": [
    "#anomali tesbiti ve aykırı değer\n",
    "def anomaliTespiti(df, ozellik):\n",
    "    outlier_indeces = []\n",
    "\n",
    "    for c in ozellik:\n",
    "        # 1. çeyrek\n",
    "        Q1 = np.percentile(df[c],25)\n",
    "        # 3. çeyrek\n",
    "        Q3 = np.percentile(df[c],75)\n",
    "        #IQR hesabı (Inter Quartile Range)\n",
    "        IQR = Q3 - Q1\n",
    "        #Aykırı değer için ek adım \n",
    "        outlier_step = 1.5 * IQR\n",
    "        \n",
    "        #aykırı değer ve indeksi\n",
    "        outlier_list_col = df[(df[c] < Q1 - outlier_step) | (df[c]\n",
    "        > Q3 + outlier_step)].index\n",
    "        #tespit edilen indeksleri depola\n",
    "        outlier_indeces.extend(outlier_list_col)#extend py'de birden çok eleman eklemeni sağlıyordu\n",
    "        #append(ama çoklıu ekleme extend)\n",
    "    #eşsiz aykırı değerler\n",
    "    outlier_indeces = Counter(outlier_indeces)#Counter koleksiyon sayımı fonksiyonudur\n",
    "    #kodumda aykırı değerleri listelicek!\n",
    "    \n",
    "    #eğer bir örnek V adet sütunda farklı değer ise\n",
    "    #bunu aykırı değer kabul edelim.\n",
    "    multiple_outliers = list(i for i, v in outlier_indeces.items() if v > 1)\n",
    "    \n",
    "    return multiple_outliers    "
   ]
  },
  {
   "cell_type": "code",
   "execution_count": 33,
   "id": "8d8d7957-5ebc-451d-8519-308859ec9f9e",
   "metadata": {},
   "outputs": [
    {
     "data": {
      "text/plain": [
       "spor\n",
       "Basketball        64\n",
       "Gymnastics        34\n",
       "Handball           6\n",
       "Athletics          5\n",
       "Sailing            3\n",
       "Diving             3\n",
       "Shooting           1\n",
       "Figure Skating     1\n",
       "Wrestling          1\n",
       "Name: count, dtype: int64"
      ]
     },
     "execution_count": 33,
     "metadata": {},
     "output_type": "execute_result"
    }
   ],
   "source": [
    "veri_anomali = veri.loc[anomaliTespiti(veri, [\"yas\", \"kilo\", \"boy\"])]\n",
    "veri_anomali.spor.value_counts()#Bir sütundaki her değerin kaç kez geçtiğini sayar."
   ]
  },
  {
   "cell_type": "markdown",
   "id": "3490b699-2353-46d8-87b5-5d212b3f9fda",
   "metadata": {},
   "source": [
    "### Anomali Grafiği"
   ]
  },
  {
   "cell_type": "code",
   "execution_count": 34,
   "id": "b1e3d74f-54d2-4cbf-b6da-008cf51ca41d",
   "metadata": {},
   "outputs": [
    {
     "data": {
      "image/png": "[encoded data removed]",
      "text/plain": [
       "<Figure size 640x480 with 1 Axes>"
      ]
     },
     "metadata": {},
     "output_type": "display_data"
    }
   ],
   "source": [
    "#  Anomali Grafiği\n",
    "plt.figure()\n",
    "plt.bar(veri_anomali.spor.value_counts().index, veri_anomali.spor.value_counts().values)\n",
    "plt.xticks(rotation = 60)\n",
    "plt.title(\"Anomaliye Rastlanan Spor Branşları\")\n",
    "plt.ylabel = (\"Frekans\")\n",
    "plt.grid(True, alpha = 0.3)\n",
    "plt.show()"
   ]
  },
  {
   "cell_type": "code",
   "execution_count": 35,
   "id": "f0f0dcd2-64b2-47c0-8cef-db1fbbf2f64f",
   "metadata": {},
   "outputs": [
    {
     "data": {
      "text/html": [
       "<div>\n",
       "<style scoped>\n",
       "    .dataframe tbody tr th:only-of-type {\n",
       "        vertical-align: middle;\n",
       "    }\n",
       "\n",
       "    .dataframe tbody tr th {\n",
       "        vertical-align: top;\n",
       "    }\n",
       "\n",
       "    .dataframe thead th {\n",
       "        text-align: right;\n",
       "    }\n",
       "</style>\n",
       "<table border=\"1\" class=\"dataframe\">\n",
       "  <thead>\n",
       "    <tr style=\"text-align: right;\">\n",
       "      <th></th>\n",
       "      <th>isim</th>\n",
       "      <th>cinsiyet</th>\n",
       "      <th>yas</th>\n",
       "      <th>boy</th>\n",
       "      <th>kilo</th>\n",
       "      <th>takim</th>\n",
       "      <th>uok</th>\n",
       "      <th>yil</th>\n",
       "      <th>sezon</th>\n",
       "      <th>sehir</th>\n",
       "      <th>spor</th>\n",
       "      <th>etkinlik</th>\n",
       "      <th>madalya</th>\n",
       "    </tr>\n",
       "  </thead>\n",
       "  <tbody>\n",
       "    <tr>\n",
       "      <th>13741</th>\n",
       "      <td>Oana Mihaela Ban</td>\n",
       "      <td>F</td>\n",
       "      <td>18.0</td>\n",
       "      <td>139.0</td>\n",
       "      <td>36.0</td>\n",
       "      <td>Romania</td>\n",
       "      <td>ROU</td>\n",
       "      <td>2004</td>\n",
       "      <td>Summer</td>\n",
       "      <td>Athina</td>\n",
       "      <td>Gymnastics</td>\n",
       "      <td>Gymnastics Women's Team All-Around</td>\n",
       "      <td>Gold</td>\n",
       "    </tr>\n",
       "    <tr>\n",
       "      <th>21260</th>\n",
       "      <td>Bi Wenjing</td>\n",
       "      <td>F</td>\n",
       "      <td>14.0</td>\n",
       "      <td>142.0</td>\n",
       "      <td>35.0</td>\n",
       "      <td>China</td>\n",
       "      <td>CHN</td>\n",
       "      <td>1996</td>\n",
       "      <td>Summer</td>\n",
       "      <td>Atlanta</td>\n",
       "      <td>Gymnastics</td>\n",
       "      <td>Gymnastics Women's Uneven Bars</td>\n",
       "      <td>Silver</td>\n",
       "    </tr>\n",
       "    <tr>\n",
       "      <th>23763</th>\n",
       "      <td>Loredana Boboc</td>\n",
       "      <td>F</td>\n",
       "      <td>16.0</td>\n",
       "      <td>139.0</td>\n",
       "      <td>32.0</td>\n",
       "      <td>Romania</td>\n",
       "      <td>ROU</td>\n",
       "      <td>2000</td>\n",
       "      <td>Summer</td>\n",
       "      <td>Sydney</td>\n",
       "      <td>Gymnastics</td>\n",
       "      <td>Gymnastics Women's Team All-Around</td>\n",
       "      <td>Gold</td>\n",
       "    </tr>\n",
       "  </tbody>\n",
       "</table>\n",
       "</div>"
      ],
      "text/plain": [
       "                   isim cinsiyet   yas    boy  kilo    takim  uok   yil  \\\n",
       "13741  Oana Mihaela Ban        F  18.0  139.0  36.0  Romania  ROU  2004   \n",
       "21260        Bi Wenjing        F  14.0  142.0  35.0    China  CHN  1996   \n",
       "23763    Loredana Boboc        F  16.0  139.0  32.0  Romania  ROU  2000   \n",
       "\n",
       "        sezon    sehir        spor                            etkinlik madalya  \n",
       "13741  Summer   Athina  Gymnastics  Gymnastics Women's Team All-Around    Gold  \n",
       "21260  Summer  Atlanta  Gymnastics      Gymnastics Women's Uneven Bars  Silver  \n",
       "23763  Summer   Sydney  Gymnastics  Gymnastics Women's Team All-Around    Gold  "
      ]
     },
     "execution_count": 35,
     "metadata": {},
     "output_type": "execute_result"
    }
   ],
   "source": [
    "#Jimnastik anomalileri\n",
    "veri_gym = veri_anomali[veri_anomali.spor == \"Gymnastics\"]\n",
    "veri_gym.head(3)"
   ]
  },
  {
   "cell_type": "code",
   "execution_count": 36,
   "id": "ffb6c2b6-8643-43f3-9350-fe1ee8666c4c",
   "metadata": {},
   "outputs": [
    {
     "data": {
      "text/plain": [
       "etkinlik\n",
       "Gymnastics Women's Team All-Around          21\n",
       "Gymnastics Women's Uneven Bars               6\n",
       "Gymnastics Women's Balance Beam              3\n",
       "Gymnastics Women's Floor Exercise            2\n",
       "Gymnastics Women's Individual All-Around     1\n",
       "Gymnastics Women's Horse Vault               1\n",
       "Name: count, dtype: int64"
      ]
     },
     "execution_count": 36,
     "metadata": {},
     "output_type": "execute_result"
    }
   ],
   "source": [
    "veri_gym.etkinlik.value_counts()"
   ]
  },
  {
   "cell_type": "code",
   "execution_count": 37,
   "id": "b94f8feb-0d0d-4779-8062-d82da8d6b7a7",
   "metadata": {},
   "outputs": [
    {
     "data": {
      "text/html": [
       "<div>\n",
       "<style scoped>\n",
       "    .dataframe tbody tr th:only-of-type {\n",
       "        vertical-align: middle;\n",
       "    }\n",
       "\n",
       "    .dataframe tbody tr th {\n",
       "        vertical-align: top;\n",
       "    }\n",
       "\n",
       "    .dataframe thead th {\n",
       "        text-align: right;\n",
       "    }\n",
       "</style>\n",
       "<table border=\"1\" class=\"dataframe\">\n",
       "  <thead>\n",
       "    <tr style=\"text-align: right;\">\n",
       "      <th></th>\n",
       "      <th>isim</th>\n",
       "      <th>cinsiyet</th>\n",
       "      <th>yas</th>\n",
       "      <th>boy</th>\n",
       "      <th>kilo</th>\n",
       "      <th>takim</th>\n",
       "      <th>uok</th>\n",
       "      <th>yil</th>\n",
       "      <th>sezon</th>\n",
       "      <th>sehir</th>\n",
       "      <th>spor</th>\n",
       "      <th>etkinlik</th>\n",
       "      <th>madalya</th>\n",
       "    </tr>\n",
       "  </thead>\n",
       "  <tbody>\n",
       "    <tr>\n",
       "      <th>8834</th>\n",
       "      <td>Franjo Arapovi</td>\n",
       "      <td>M</td>\n",
       "      <td>23.0</td>\n",
       "      <td>211.0</td>\n",
       "      <td>120.0</td>\n",
       "      <td>Yugoslavia</td>\n",
       "      <td>YUG</td>\n",
       "      <td>1988</td>\n",
       "      <td>Summer</td>\n",
       "      <td>Seoul</td>\n",
       "      <td>Basketball</td>\n",
       "      <td>Basketball Men's Basketball</td>\n",
       "      <td>Silver</td>\n",
       "    </tr>\n",
       "    <tr>\n",
       "      <th>8835</th>\n",
       "      <td>Franjo Arapovi</td>\n",
       "      <td>M</td>\n",
       "      <td>27.0</td>\n",
       "      <td>211.0</td>\n",
       "      <td>120.0</td>\n",
       "      <td>Croatia</td>\n",
       "      <td>CRO</td>\n",
       "      <td>1992</td>\n",
       "      <td>Summer</td>\n",
       "      <td>Barcelona</td>\n",
       "      <td>Basketball</td>\n",
       "      <td>Basketball Men's Basketball</td>\n",
       "      <td>Silver</td>\n",
       "    </tr>\n",
       "    <tr>\n",
       "      <th>21577</th>\n",
       "      <td>Oleksandr Mykhailovych Bielostienniy</td>\n",
       "      <td>M</td>\n",
       "      <td>21.0</td>\n",
       "      <td>214.0</td>\n",
       "      <td>117.0</td>\n",
       "      <td>Soviet Union</td>\n",
       "      <td>URS</td>\n",
       "      <td>1980</td>\n",
       "      <td>Summer</td>\n",
       "      <td>Moskva</td>\n",
       "      <td>Basketball</td>\n",
       "      <td>Basketball Men's Basketball</td>\n",
       "      <td>Bronze</td>\n",
       "    </tr>\n",
       "  </tbody>\n",
       "</table>\n",
       "</div>"
      ],
      "text/plain": [
       "                                       isim cinsiyet   yas    boy   kilo  \\\n",
       "8834                         Franjo Arapovi        M  23.0  211.0  120.0   \n",
       "8835                         Franjo Arapovi        M  27.0  211.0  120.0   \n",
       "21577  Oleksandr Mykhailovych Bielostienniy        M  21.0  214.0  117.0   \n",
       "\n",
       "              takim  uok   yil   sezon      sehir        spor  \\\n",
       "8834     Yugoslavia  YUG  1988  Summer      Seoul  Basketball   \n",
       "8835        Croatia  CRO  1992  Summer  Barcelona  Basketball   \n",
       "21577  Soviet Union  URS  1980  Summer     Moskva  Basketball   \n",
       "\n",
       "                          etkinlik madalya  \n",
       "8834   Basketball Men's Basketball  Silver  \n",
       "8835   Basketball Men's Basketball  Silver  \n",
       "21577  Basketball Men's Basketball  Bronze  "
      ]
     },
     "execution_count": 37,
     "metadata": {},
     "output_type": "execute_result"
    }
   ],
   "source": [
    "# Basketbol Anomalileri\n",
    "veri_basketbol = veri_anomali[veri_anomali.spor == \"Basketball\"]\n",
    "veri_basketbol.head(3)"
   ]
  },
  {
   "cell_type": "code",
   "execution_count": 38,
   "id": "6adc6181-232d-46c2-a274-67bc47368021",
   "metadata": {},
   "outputs": [
    {
     "data": {
      "text/plain": [
       "etkinlik\n",
       "Basketball Men's Basketball      62\n",
       "Basketball Women's Basketball     2\n",
       "Name: count, dtype: int64"
      ]
     },
     "execution_count": 38,
     "metadata": {},
     "output_type": "execute_result"
    }
   ],
   "source": [
    "veri_basketbol.etkinlik.value_counts()"
   ]
  },
  {
   "cell_type": "markdown",
   "id": "98bb8192-6bc0-447e-9cfd-6f1a20f1868a",
   "metadata": {},
   "source": [
    "### Yıllara Göre Ortalama Yaş Boy Kilo Değişimleri"
   ]
  },
  {
   "cell_type": "code",
   "execution_count": 39,
   "id": "339a929b-cc59-4a73-aaf4-31b9683d3ced",
   "metadata": {},
   "outputs": [
    {
     "data": {
      "text/html": [
       "<div>\n",
       "<style scoped>\n",
       "    .dataframe tbody tr th:only-of-type {\n",
       "        vertical-align: middle;\n",
       "    }\n",
       "\n",
       "    .dataframe tbody tr th {\n",
       "        vertical-align: top;\n",
       "    }\n",
       "\n",
       "    .dataframe thead th {\n",
       "        text-align: right;\n",
       "    }\n",
       "</style>\n",
       "<table border=\"1\" class=\"dataframe\">\n",
       "  <thead>\n",
       "    <tr style=\"text-align: right;\">\n",
       "      <th></th>\n",
       "      <th>isim</th>\n",
       "      <th>cinsiyet</th>\n",
       "      <th>yas</th>\n",
       "      <th>boy</th>\n",
       "      <th>kilo</th>\n",
       "      <th>takim</th>\n",
       "      <th>uok</th>\n",
       "      <th>yil</th>\n",
       "      <th>sezon</th>\n",
       "      <th>sehir</th>\n",
       "      <th>spor</th>\n",
       "      <th>etkinlik</th>\n",
       "      <th>madalya</th>\n",
       "    </tr>\n",
       "  </thead>\n",
       "  <tbody>\n",
       "    <tr>\n",
       "      <th>3</th>\n",
       "      <td>Edgar Lindenau Aabye</td>\n",
       "      <td>M</td>\n",
       "      <td>34.0</td>\n",
       "      <td>182.48</td>\n",
       "      <td>95.62</td>\n",
       "      <td>Denmark/Sweden</td>\n",
       "      <td>DEN</td>\n",
       "      <td>1900</td>\n",
       "      <td>Summer</td>\n",
       "      <td>Paris</td>\n",
       "      <td>Tug-Of-War</td>\n",
       "      <td>Tug-Of-War Men's Tug-Of-War</td>\n",
       "      <td>Gold</td>\n",
       "    </tr>\n",
       "    <tr>\n",
       "      <th>37</th>\n",
       "      <td>Arvo Ossian Aaltonen</td>\n",
       "      <td>M</td>\n",
       "      <td>30.0</td>\n",
       "      <td>182.01</td>\n",
       "      <td>76.69</td>\n",
       "      <td>Finland</td>\n",
       "      <td>FIN</td>\n",
       "      <td>1920</td>\n",
       "      <td>Summer</td>\n",
       "      <td>Antwerpen</td>\n",
       "      <td>Swimming</td>\n",
       "      <td>Swimming Men's 200 metres Breaststroke</td>\n",
       "      <td>Bronze</td>\n",
       "    </tr>\n",
       "    <tr>\n",
       "      <th>38</th>\n",
       "      <td>Arvo Ossian Aaltonen</td>\n",
       "      <td>M</td>\n",
       "      <td>30.0</td>\n",
       "      <td>177.00</td>\n",
       "      <td>75.00</td>\n",
       "      <td>Finland</td>\n",
       "      <td>FIN</td>\n",
       "      <td>1920</td>\n",
       "      <td>Summer</td>\n",
       "      <td>Antwerpen</td>\n",
       "      <td>Swimming</td>\n",
       "      <td>Swimming Men's 400 metres Breaststroke</td>\n",
       "      <td>Bronze</td>\n",
       "    </tr>\n",
       "  </tbody>\n",
       "</table>\n",
       "</div>"
      ],
      "text/plain": [
       "                    isim cinsiyet   yas     boy   kilo           takim  uok  \\\n",
       "3   Edgar Lindenau Aabye        M  34.0  182.48  95.62  Denmark/Sweden  DEN   \n",
       "37  Arvo Ossian Aaltonen        M  30.0  182.01  76.69         Finland  FIN   \n",
       "38  Arvo Ossian Aaltonen        M  30.0  177.00  75.00         Finland  FIN   \n",
       "\n",
       "     yil   sezon      sehir        spor  \\\n",
       "3   1900  Summer      Paris  Tug-Of-War   \n",
       "37  1920  Summer  Antwerpen    Swimming   \n",
       "38  1920  Summer  Antwerpen    Swimming   \n",
       "\n",
       "                                  etkinlik madalya  \n",
       "3              Tug-Of-War Men's Tug-Of-War    Gold  \n",
       "37  Swimming Men's 200 metres Breaststroke  Bronze  \n",
       "38  Swimming Men's 400 metres Breaststroke  Bronze  "
      ]
     },
     "execution_count": 39,
     "metadata": {},
     "output_type": "execute_result"
    }
   ],
   "source": [
    "#zaman serilerinde veri analizi\n",
    "#Yıllara göre ort. yaş, boy, kilo değişimi\n",
    "veri_zaman =veri.copy()\n",
    "veri_zaman.head(3)"
   ]
  },
  {
   "cell_type": "markdown",
   "id": "b11b477c-3301-4ab1-bddb-50f079dd1e81",
   "metadata": {},
   "source": [
    "### Olimpiyatların Gerçekleştiği Yıllar"
   ]
  },
  {
   "cell_type": "code",
   "execution_count": 40,
   "id": "e36ab2bc-eb02-4f39-9aed-6d006f0acb31",
   "metadata": {},
   "outputs": [
    {
     "data": {
      "text/plain": [
       "array([1900, 1920, 2014, 1948, 1952, 1992, 1994, 2002, 2006, 2008, 1988,\n",
       "       1996, 1960, 1912, 1956, 2016, 2012, 2000, 2004, 1980, 1984, 1936,\n",
       "       1906, 1964, 1972, 1924, 1904, 1932, 1928, 1968, 1976, 2010, 1908,\n",
       "       1998, 1896], dtype=int64)"
      ]
     },
     "execution_count": 40,
     "metadata": {},
     "output_type": "execute_result"
    }
   ],
   "source": [
    "# Olimpiyatların gerçekleştiği Yılları Bulalım\n",
    "essiz_yillar = veri_zaman.yil.unique()\n",
    "essiz_yillar"
   ]
  },
  {
   "cell_type": "code",
   "execution_count": 41,
   "id": "9243b472-6c42-48cf-a658-ba0a03481d0b",
   "metadata": {},
   "outputs": [
    {
     "data": {
      "text/plain": [
       "array([1896, 1900, 1904, 1906, 1908, 1912, 1920, 1924, 1928, 1932, 1936,\n",
       "       1948, 1952, 1956, 1960, 1964, 1968, 1972, 1976, 1980, 1984, 1988,\n",
       "       1992, 1994, 1996, 1998, 2000, 2002, 2004, 2006, 2008, 2010, 2012,\n",
       "       2014, 2016], dtype=int64)"
      ]
     },
     "execution_count": 41,
     "metadata": {},
     "output_type": "execute_result"
    }
   ],
   "source": [
    "#Olimpiyatların sıralaması\n",
    "dizili_array = np.sort(veri_zaman.yil.unique())\n",
    "dizili_array"
   ]
  },
  {
   "cell_type": "markdown",
   "id": "f70e87b5-332b-43d9-87c7-c3fb4e77789b",
   "metadata": {},
   "source": [
    "### Olimpiyatların Gerçekleştiği Yılların Görseli"
   ]
  },
  {
   "cell_type": "code",
   "execution_count": 42,
   "id": "0665fbef-8a96-4e2f-874d-dddbee60d2ed",
   "metadata": {},
   "outputs": [
    {
     "data": {
      "image/png": "[encoded data removed]",
      "text/plain": [
       "<Figure size 640x480 with 1 Axes>"
      ]
     },
     "metadata": {},
     "output_type": "display_data"
    }
   ],
   "source": [
    "# Grafik\n",
    "plt.figure()\n",
    "plt.scatter(range(len(dizili_array)), dizili_array)\n",
    "plt.grid(True)\n",
    "plt.ylabel = \"Yıllar\"\n",
    "plt.title(\"Olimpiyatlar çift yıllardır düzenlenir.\")\n",
    "plt.show()"
   ]
  },
  {
   "cell_type": "code",
   "execution_count": 43,
   "id": "6d1c5798-a638-4dec-a48a-c7fb6fd1e9d6",
   "metadata": {},
   "outputs": [
    {
     "name": "stdout",
     "output_type": "stream",
     "text": [
      "<class 'pandas.core.series.Series'>\n"
     ]
    },
    {
     "data": {
      "text/plain": [
       "3    1900-01-01\n",
       "37   1920-01-01\n",
       "38   1920-01-01\n",
       "Name: yil, dtype: datetime64[ns]"
      ]
     },
     "execution_count": 43,
     "metadata": {},
     "output_type": "execute_result"
    }
   ],
   "source": [
    "#yılları date-time tipine dönüştürelim.\n",
    "tarih_saat_nesnesi = pd.to_datetime(veri_zaman[\"yil\"], format = '%Y')\n",
    "print(type(tarih_saat_nesnesi))\n",
    "tarih_saat_nesnesi.head(3)"
   ]
  },
  {
   "cell_type": "code",
   "execution_count": 44,
   "id": "029777aa-fa3c-4e3a-a35c-7962ec1147b2",
   "metadata": {},
   "outputs": [
    {
     "data": {
      "text/html": [
       "<div>\n",
       "<style scoped>\n",
       "    .dataframe tbody tr th:only-of-type {\n",
       "        vertical-align: middle;\n",
       "    }\n",
       "\n",
       "    .dataframe tbody tr th {\n",
       "        vertical-align: top;\n",
       "    }\n",
       "\n",
       "    .dataframe thead th {\n",
       "        text-align: right;\n",
       "    }\n",
       "</style>\n",
       "<table border=\"1\" class=\"dataframe\">\n",
       "  <thead>\n",
       "    <tr style=\"text-align: right;\">\n",
       "      <th></th>\n",
       "      <th>isim</th>\n",
       "      <th>cinsiyet</th>\n",
       "      <th>yas</th>\n",
       "      <th>boy</th>\n",
       "      <th>kilo</th>\n",
       "      <th>takim</th>\n",
       "      <th>uok</th>\n",
       "      <th>yil</th>\n",
       "      <th>sezon</th>\n",
       "      <th>sehir</th>\n",
       "      <th>spor</th>\n",
       "      <th>etkinlik</th>\n",
       "      <th>madalya</th>\n",
       "      <th>tarih_saat</th>\n",
       "    </tr>\n",
       "  </thead>\n",
       "  <tbody>\n",
       "    <tr>\n",
       "      <th>3</th>\n",
       "      <td>Edgar Lindenau Aabye</td>\n",
       "      <td>M</td>\n",
       "      <td>34.0</td>\n",
       "      <td>182.48</td>\n",
       "      <td>95.62</td>\n",
       "      <td>Denmark/Sweden</td>\n",
       "      <td>DEN</td>\n",
       "      <td>1900</td>\n",
       "      <td>Summer</td>\n",
       "      <td>Paris</td>\n",
       "      <td>Tug-Of-War</td>\n",
       "      <td>Tug-Of-War Men's Tug-Of-War</td>\n",
       "      <td>Gold</td>\n",
       "      <td>1900-01-01</td>\n",
       "    </tr>\n",
       "    <tr>\n",
       "      <th>37</th>\n",
       "      <td>Arvo Ossian Aaltonen</td>\n",
       "      <td>M</td>\n",
       "      <td>30.0</td>\n",
       "      <td>182.01</td>\n",
       "      <td>76.69</td>\n",
       "      <td>Finland</td>\n",
       "      <td>FIN</td>\n",
       "      <td>1920</td>\n",
       "      <td>Summer</td>\n",
       "      <td>Antwerpen</td>\n",
       "      <td>Swimming</td>\n",
       "      <td>Swimming Men's 200 metres Breaststroke</td>\n",
       "      <td>Bronze</td>\n",
       "      <td>1920-01-01</td>\n",
       "    </tr>\n",
       "    <tr>\n",
       "      <th>38</th>\n",
       "      <td>Arvo Ossian Aaltonen</td>\n",
       "      <td>M</td>\n",
       "      <td>30.0</td>\n",
       "      <td>177.00</td>\n",
       "      <td>75.00</td>\n",
       "      <td>Finland</td>\n",
       "      <td>FIN</td>\n",
       "      <td>1920</td>\n",
       "      <td>Summer</td>\n",
       "      <td>Antwerpen</td>\n",
       "      <td>Swimming</td>\n",
       "      <td>Swimming Men's 400 metres Breaststroke</td>\n",
       "      <td>Bronze</td>\n",
       "      <td>1920-01-01</td>\n",
       "    </tr>\n",
       "  </tbody>\n",
       "</table>\n",
       "</div>"
      ],
      "text/plain": [
       "                    isim cinsiyet   yas     boy   kilo           takim  uok  \\\n",
       "3   Edgar Lindenau Aabye        M  34.0  182.48  95.62  Denmark/Sweden  DEN   \n",
       "37  Arvo Ossian Aaltonen        M  30.0  182.01  76.69         Finland  FIN   \n",
       "38  Arvo Ossian Aaltonen        M  30.0  177.00  75.00         Finland  FIN   \n",
       "\n",
       "     yil   sezon      sehir        spor  \\\n",
       "3   1900  Summer      Paris  Tug-Of-War   \n",
       "37  1920  Summer  Antwerpen    Swimming   \n",
       "38  1920  Summer  Antwerpen    Swimming   \n",
       "\n",
       "                                  etkinlik madalya tarih_saat  \n",
       "3              Tug-Of-War Men's Tug-Of-War    Gold 1900-01-01  \n",
       "37  Swimming Men's 200 metres Breaststroke  Bronze 1920-01-01  \n",
       "38  Swimming Men's 400 metres Breaststroke  Bronze 1920-01-01  "
      ]
     },
     "execution_count": 44,
     "metadata": {},
     "output_type": "execute_result"
    }
   ],
   "source": [
    "#yeni sütün ekleyelim\n",
    "veri_zaman[\"tarih_saat\"] = tarih_saat_nesnesi\n",
    "veri_zaman.head(3)"
   ]
  },
  {
   "cell_type": "code",
   "execution_count": 45,
   "id": "d1fc7736-71da-4282-baeb-608da671bfac",
   "metadata": {},
   "outputs": [
    {
     "data": {
      "text/html": [
       "<div>\n",
       "<style scoped>\n",
       "    .dataframe tbody tr th:only-of-type {\n",
       "        vertical-align: middle;\n",
       "    }\n",
       "\n",
       "    .dataframe tbody tr th {\n",
       "        vertical-align: top;\n",
       "    }\n",
       "\n",
       "    .dataframe thead th {\n",
       "        text-align: right;\n",
       "    }\n",
       "</style>\n",
       "<table border=\"1\" class=\"dataframe\">\n",
       "  <thead>\n",
       "    <tr style=\"text-align: right;\">\n",
       "      <th></th>\n",
       "      <th>isim</th>\n",
       "      <th>cinsiyet</th>\n",
       "      <th>yas</th>\n",
       "      <th>boy</th>\n",
       "      <th>kilo</th>\n",
       "      <th>takim</th>\n",
       "      <th>uok</th>\n",
       "      <th>sezon</th>\n",
       "      <th>sehir</th>\n",
       "      <th>spor</th>\n",
       "      <th>etkinlik</th>\n",
       "      <th>madalya</th>\n",
       "    </tr>\n",
       "    <tr>\n",
       "      <th>tarih_saat</th>\n",
       "      <th></th>\n",
       "      <th></th>\n",
       "      <th></th>\n",
       "      <th></th>\n",
       "      <th></th>\n",
       "      <th></th>\n",
       "      <th></th>\n",
       "      <th></th>\n",
       "      <th></th>\n",
       "      <th></th>\n",
       "      <th></th>\n",
       "      <th></th>\n",
       "    </tr>\n",
       "  </thead>\n",
       "  <tbody>\n",
       "    <tr>\n",
       "      <th>1900-01-01</th>\n",
       "      <td>Edgar Lindenau Aabye</td>\n",
       "      <td>M</td>\n",
       "      <td>34.0</td>\n",
       "      <td>182.48</td>\n",
       "      <td>95.62</td>\n",
       "      <td>Denmark/Sweden</td>\n",
       "      <td>DEN</td>\n",
       "      <td>Summer</td>\n",
       "      <td>Paris</td>\n",
       "      <td>Tug-Of-War</td>\n",
       "      <td>Tug-Of-War Men's Tug-Of-War</td>\n",
       "      <td>Gold</td>\n",
       "    </tr>\n",
       "    <tr>\n",
       "      <th>1920-01-01</th>\n",
       "      <td>Arvo Ossian Aaltonen</td>\n",
       "      <td>M</td>\n",
       "      <td>30.0</td>\n",
       "      <td>182.01</td>\n",
       "      <td>76.69</td>\n",
       "      <td>Finland</td>\n",
       "      <td>FIN</td>\n",
       "      <td>Summer</td>\n",
       "      <td>Antwerpen</td>\n",
       "      <td>Swimming</td>\n",
       "      <td>Swimming Men's 200 metres Breaststroke</td>\n",
       "      <td>Bronze</td>\n",
       "    </tr>\n",
       "    <tr>\n",
       "      <th>1920-01-01</th>\n",
       "      <td>Arvo Ossian Aaltonen</td>\n",
       "      <td>M</td>\n",
       "      <td>30.0</td>\n",
       "      <td>177.00</td>\n",
       "      <td>75.00</td>\n",
       "      <td>Finland</td>\n",
       "      <td>FIN</td>\n",
       "      <td>Summer</td>\n",
       "      <td>Antwerpen</td>\n",
       "      <td>Swimming</td>\n",
       "      <td>Swimming Men's 400 metres Breaststroke</td>\n",
       "      <td>Bronze</td>\n",
       "    </tr>\n",
       "  </tbody>\n",
       "</table>\n",
       "</div>"
      ],
      "text/plain": [
       "                            isim cinsiyet   yas     boy   kilo  \\\n",
       "tarih_saat                                                       \n",
       "1900-01-01  Edgar Lindenau Aabye        M  34.0  182.48  95.62   \n",
       "1920-01-01  Arvo Ossian Aaltonen        M  30.0  182.01  76.69   \n",
       "1920-01-01  Arvo Ossian Aaltonen        M  30.0  177.00  75.00   \n",
       "\n",
       "                     takim  uok   sezon      sehir        spor  \\\n",
       "tarih_saat                                                       \n",
       "1900-01-01  Denmark/Sweden  DEN  Summer      Paris  Tug-Of-War   \n",
       "1920-01-01         Finland  FIN  Summer  Antwerpen    Swimming   \n",
       "1920-01-01         Finland  FIN  Summer  Antwerpen    Swimming   \n",
       "\n",
       "                                          etkinlik madalya  \n",
       "tarih_saat                                                  \n",
       "1900-01-01             Tug-Of-War Men's Tug-Of-War    Gold  \n",
       "1920-01-01  Swimming Men's 200 metres Breaststroke  Bronze  \n",
       "1920-01-01  Swimming Men's 400 metres Breaststroke  Bronze  "
      ]
     },
     "execution_count": 45,
     "metadata": {},
     "output_type": "execute_result"
    }
   ],
   "source": [
    "# indeksi tarih_saat yapalım\n",
    "veri_zaman = veri_zaman.set_index(\"tarih_saat\")\n",
    "\n",
    "# yil sütununu çıkaralım (inplace=True ile kalıcı olarak)\n",
    "veri_zaman.drop(['yil'], axis=1, inplace=True)\n",
    "\n",
    "veri_zaman.head(3)"
   ]
  },
  {
   "cell_type": "code",
   "execution_count": 46,
   "id": "d3dcba6e-d127-458b-ba06-bffdf2b4a89a",
   "metadata": {},
   "outputs": [
    {
     "data": {
      "text/html": [
       "<div>\n",
       "<style scoped>\n",
       "    .dataframe tbody tr th:only-of-type {\n",
       "        vertical-align: middle;\n",
       "    }\n",
       "\n",
       "    .dataframe tbody tr th {\n",
       "        vertical-align: top;\n",
       "    }\n",
       "\n",
       "    .dataframe thead th {\n",
       "        text-align: right;\n",
       "    }\n",
       "</style>\n",
       "<table border=\"1\" class=\"dataframe\">\n",
       "  <thead>\n",
       "    <tr style=\"text-align: right;\">\n",
       "      <th></th>\n",
       "      <th>yas</th>\n",
       "      <th>boy</th>\n",
       "      <th>kilo</th>\n",
       "    </tr>\n",
       "    <tr>\n",
       "      <th>tarih_saat</th>\n",
       "      <th></th>\n",
       "      <th></th>\n",
       "      <th></th>\n",
       "    </tr>\n",
       "  </thead>\n",
       "  <tbody>\n",
       "    <tr>\n",
       "      <th>1896-12-31</th>\n",
       "      <td>23.905734</td>\n",
       "      <td>174.280350</td>\n",
       "      <td>72.734056</td>\n",
       "    </tr>\n",
       "    <tr>\n",
       "      <th>1898-12-31</th>\n",
       "      <td>NaN</td>\n",
       "      <td>NaN</td>\n",
       "      <td>NaN</td>\n",
       "    </tr>\n",
       "    <tr>\n",
       "      <th>1900-12-31</th>\n",
       "      <td>27.786689</td>\n",
       "      <td>177.882301</td>\n",
       "      <td>74.979950</td>\n",
       "    </tr>\n",
       "    <tr>\n",
       "      <th>1902-12-31</th>\n",
       "      <td>NaN</td>\n",
       "      <td>NaN</td>\n",
       "      <td>NaN</td>\n",
       "    </tr>\n",
       "    <tr>\n",
       "      <th>1904-12-31</th>\n",
       "      <td>26.363868</td>\n",
       "      <td>177.241091</td>\n",
       "      <td>74.330823</td>\n",
       "    </tr>\n",
       "  </tbody>\n",
       "</table>\n",
       "</div>"
      ],
      "text/plain": [
       "                  yas         boy       kilo\n",
       "tarih_saat                                  \n",
       "1896-12-31  23.905734  174.280350  72.734056\n",
       "1898-12-31        NaN         NaN        NaN\n",
       "1900-12-31  27.786689  177.882301  74.979950\n",
       "1902-12-31        NaN         NaN        NaN\n",
       "1904-12-31  26.363868  177.241091  74.330823"
      ]
     },
     "execution_count": 46,
     "metadata": {},
     "output_type": "execute_result"
    }
   ],
   "source": [
    "# Yıllara göre yaş boy ağrılık değişimleri\n",
    "periyodik_veri = veri_zaman.select_dtypes(include = 'number').resample(\"2YE\").mean() # 2 yıllık periyodik ortalama veri\n",
    "periyodik_veri.head()"
   ]
  },
  {
   "cell_type": "code",
   "execution_count": 47,
   "id": "47fb9d0a-b190-4d72-b512-daa4ec182623",
   "metadata": {},
   "outputs": [
    {
     "data": {
      "text/html": [
       "<div>\n",
       "<style scoped>\n",
       "    .dataframe tbody tr th:only-of-type {\n",
       "        vertical-align: middle;\n",
       "    }\n",
       "\n",
       "    .dataframe tbody tr th {\n",
       "        vertical-align: top;\n",
       "    }\n",
       "\n",
       "    .dataframe thead th {\n",
       "        text-align: right;\n",
       "    }\n",
       "</style>\n",
       "<table border=\"1\" class=\"dataframe\">\n",
       "  <thead>\n",
       "    <tr style=\"text-align: right;\">\n",
       "      <th></th>\n",
       "      <th>yas</th>\n",
       "      <th>boy</th>\n",
       "      <th>kilo</th>\n",
       "    </tr>\n",
       "    <tr>\n",
       "      <th>tarih_saat</th>\n",
       "      <th></th>\n",
       "      <th></th>\n",
       "      <th></th>\n",
       "    </tr>\n",
       "  </thead>\n",
       "  <tbody>\n",
       "    <tr>\n",
       "      <th>1896-12-31</th>\n",
       "      <td>23.905734</td>\n",
       "      <td>174.280350</td>\n",
       "      <td>72.734056</td>\n",
       "    </tr>\n",
       "    <tr>\n",
       "      <th>1900-12-31</th>\n",
       "      <td>27.786689</td>\n",
       "      <td>177.882301</td>\n",
       "      <td>74.979950</td>\n",
       "    </tr>\n",
       "    <tr>\n",
       "      <th>1904-12-31</th>\n",
       "      <td>26.363868</td>\n",
       "      <td>177.241091</td>\n",
       "      <td>74.330823</td>\n",
       "    </tr>\n",
       "    <tr>\n",
       "      <th>1906-12-31</th>\n",
       "      <td>26.479389</td>\n",
       "      <td>176.347576</td>\n",
       "      <td>74.072183</td>\n",
       "    </tr>\n",
       "    <tr>\n",
       "      <th>1908-12-31</th>\n",
       "      <td>27.566739</td>\n",
       "      <td>176.662419</td>\n",
       "      <td>73.721107</td>\n",
       "    </tr>\n",
       "  </tbody>\n",
       "</table>\n",
       "</div>"
      ],
      "text/plain": [
       "                  yas         boy       kilo\n",
       "tarih_saat                                  \n",
       "1896-12-31  23.905734  174.280350  72.734056\n",
       "1900-12-31  27.786689  177.882301  74.979950\n",
       "1904-12-31  26.363868  177.241091  74.330823\n",
       "1906-12-31  26.479389  176.347576  74.072183\n",
       "1908-12-31  27.566739  176.662419  73.721107"
      ]
     },
     "execution_count": 47,
     "metadata": {},
     "output_type": "execute_result"
    }
   ],
   "source": [
    "#kayıp verileri çıkaralım. (silelim)\n",
    "periyodik_veri.dropna(axis = 0, inplace = True)\n",
    "periyodik_veri.head()"
   ]
  },
  {
   "cell_type": "code",
   "execution_count": 48,
   "id": "0f18b177-80ec-4b89-b6d0-c13e0b547e75",
   "metadata": {},
   "outputs": [
    {
     "data": {
      "text/plain": [
       "<Figure size 640x480 with 0 Axes>"
      ]
     },
     "metadata": {},
     "output_type": "display_data"
    },
    {
     "data": {
      "image/png": "[encoded data removed]",
      "text/plain": [
       "<Figure size 640x480 with 1 Axes>"
      ]
     },
     "metadata": {},
     "output_type": "display_data"
    }
   ],
   "source": [
    "#grafik\n",
    "plt.figure()\n",
    "periyodik_veri.plot()\n",
    "plt.title('Yıllara Göre Ortalama Yaş, Boy, Ağırlık Değişimi')\n",
    "plt.xlabel('Yıl')\n",
    "plt.grid(True)\n",
    "plt.show()"
   ]
  },
  {
   "cell_type": "code",
   "execution_count": 49,
   "id": "2219b94c-d294-42b7-8906-b65157c3dc7c",
   "metadata": {},
   "outputs": [
    {
     "data": {
      "text/html": [
       "<div>\n",
       "<style scoped>\n",
       "    .dataframe tbody tr th:only-of-type {\n",
       "        vertical-align: middle;\n",
       "    }\n",
       "\n",
       "    .dataframe tbody tr th {\n",
       "        vertical-align: top;\n",
       "    }\n",
       "\n",
       "    .dataframe thead th {\n",
       "        text-align: right;\n",
       "    }\n",
       "</style>\n",
       "<table border=\"1\" class=\"dataframe\">\n",
       "  <thead>\n",
       "    <tr style=\"text-align: right;\">\n",
       "      <th></th>\n",
       "      <th>isim</th>\n",
       "      <th>cinsiyet</th>\n",
       "      <th>yas</th>\n",
       "      <th>boy</th>\n",
       "      <th>kilo</th>\n",
       "      <th>takim</th>\n",
       "      <th>uok</th>\n",
       "      <th>sezon</th>\n",
       "      <th>sehir</th>\n",
       "      <th>spor</th>\n",
       "      <th>etkinlik</th>\n",
       "      <th>madalya_Bronze</th>\n",
       "      <th>madalya_Gold</th>\n",
       "      <th>madalya_Silver</th>\n",
       "    </tr>\n",
       "    <tr>\n",
       "      <th>tarih_saat</th>\n",
       "      <th></th>\n",
       "      <th></th>\n",
       "      <th></th>\n",
       "      <th></th>\n",
       "      <th></th>\n",
       "      <th></th>\n",
       "      <th></th>\n",
       "      <th></th>\n",
       "      <th></th>\n",
       "      <th></th>\n",
       "      <th></th>\n",
       "      <th></th>\n",
       "      <th></th>\n",
       "      <th></th>\n",
       "    </tr>\n",
       "  </thead>\n",
       "  <tbody>\n",
       "    <tr>\n",
       "      <th>1900-01-01</th>\n",
       "      <td>Edgar Lindenau Aabye</td>\n",
       "      <td>M</td>\n",
       "      <td>34.0</td>\n",
       "      <td>182.48</td>\n",
       "      <td>95.62</td>\n",
       "      <td>Denmark/Sweden</td>\n",
       "      <td>DEN</td>\n",
       "      <td>Summer</td>\n",
       "      <td>Paris</td>\n",
       "      <td>Tug-Of-War</td>\n",
       "      <td>Tug-Of-War Men's Tug-Of-War</td>\n",
       "      <td>0</td>\n",
       "      <td>1</td>\n",
       "      <td>0</td>\n",
       "    </tr>\n",
       "    <tr>\n",
       "      <th>1920-01-01</th>\n",
       "      <td>Arvo Ossian Aaltonen</td>\n",
       "      <td>M</td>\n",
       "      <td>30.0</td>\n",
       "      <td>182.01</td>\n",
       "      <td>76.69</td>\n",
       "      <td>Finland</td>\n",
       "      <td>FIN</td>\n",
       "      <td>Summer</td>\n",
       "      <td>Antwerpen</td>\n",
       "      <td>Swimming</td>\n",
       "      <td>Swimming Men's 200 metres Breaststroke</td>\n",
       "      <td>1</td>\n",
       "      <td>0</td>\n",
       "      <td>0</td>\n",
       "    </tr>\n",
       "    <tr>\n",
       "      <th>1920-01-01</th>\n",
       "      <td>Arvo Ossian Aaltonen</td>\n",
       "      <td>M</td>\n",
       "      <td>30.0</td>\n",
       "      <td>177.00</td>\n",
       "      <td>75.00</td>\n",
       "      <td>Finland</td>\n",
       "      <td>FIN</td>\n",
       "      <td>Summer</td>\n",
       "      <td>Antwerpen</td>\n",
       "      <td>Swimming</td>\n",
       "      <td>Swimming Men's 400 metres Breaststroke</td>\n",
       "      <td>1</td>\n",
       "      <td>0</td>\n",
       "      <td>0</td>\n",
       "    </tr>\n",
       "    <tr>\n",
       "      <th>2014-01-01</th>\n",
       "      <td>Juhamatti Tapio Aaltonen</td>\n",
       "      <td>M</td>\n",
       "      <td>28.0</td>\n",
       "      <td>184.00</td>\n",
       "      <td>85.00</td>\n",
       "      <td>Finland</td>\n",
       "      <td>FIN</td>\n",
       "      <td>Winter</td>\n",
       "      <td>Sochi</td>\n",
       "      <td>Ice Hockey</td>\n",
       "      <td>Ice Hockey Men's Ice Hockey</td>\n",
       "      <td>1</td>\n",
       "      <td>0</td>\n",
       "      <td>0</td>\n",
       "    </tr>\n",
       "    <tr>\n",
       "      <th>1948-01-01</th>\n",
       "      <td>Paavo Johannes Aaltonen</td>\n",
       "      <td>M</td>\n",
       "      <td>28.0</td>\n",
       "      <td>175.00</td>\n",
       "      <td>64.00</td>\n",
       "      <td>Finland</td>\n",
       "      <td>FIN</td>\n",
       "      <td>Summer</td>\n",
       "      <td>London</td>\n",
       "      <td>Gymnastics</td>\n",
       "      <td>Gymnastics Men's Individual All-Around</td>\n",
       "      <td>1</td>\n",
       "      <td>0</td>\n",
       "      <td>0</td>\n",
       "    </tr>\n",
       "  </tbody>\n",
       "</table>\n",
       "</div>"
      ],
      "text/plain": [
       "                                isim cinsiyet   yas     boy   kilo  \\\n",
       "tarih_saat                                                           \n",
       "1900-01-01      Edgar Lindenau Aabye        M  34.0  182.48  95.62   \n",
       "1920-01-01      Arvo Ossian Aaltonen        M  30.0  182.01  76.69   \n",
       "1920-01-01      Arvo Ossian Aaltonen        M  30.0  177.00  75.00   \n",
       "2014-01-01  Juhamatti Tapio Aaltonen        M  28.0  184.00  85.00   \n",
       "1948-01-01   Paavo Johannes Aaltonen        M  28.0  175.00  64.00   \n",
       "\n",
       "                     takim  uok   sezon      sehir        spor  \\\n",
       "tarih_saat                                                       \n",
       "1900-01-01  Denmark/Sweden  DEN  Summer      Paris  Tug-Of-War   \n",
       "1920-01-01         Finland  FIN  Summer  Antwerpen    Swimming   \n",
       "1920-01-01         Finland  FIN  Summer  Antwerpen    Swimming   \n",
       "2014-01-01         Finland  FIN  Winter      Sochi  Ice Hockey   \n",
       "1948-01-01         Finland  FIN  Summer     London  Gymnastics   \n",
       "\n",
       "                                          etkinlik  madalya_Bronze  \\\n",
       "tarih_saat                                                           \n",
       "1900-01-01             Tug-Of-War Men's Tug-Of-War               0   \n",
       "1920-01-01  Swimming Men's 200 metres Breaststroke               1   \n",
       "1920-01-01  Swimming Men's 400 metres Breaststroke               1   \n",
       "2014-01-01             Ice Hockey Men's Ice Hockey               1   \n",
       "1948-01-01  Gymnastics Men's Individual All-Around               1   \n",
       "\n",
       "            madalya_Gold  madalya_Silver  \n",
       "tarih_saat                                \n",
       "1900-01-01             1               0  \n",
       "1920-01-01             0               0  \n",
       "1920-01-01             0               0  \n",
       "2014-01-01             0               0  \n",
       "1948-01-01             0               0  "
      ]
     },
     "execution_count": 49,
     "metadata": {},
     "output_type": "execute_result"
    }
   ],
   "source": [
    "#Yıllara göre Madalya Sayıları\n",
    "veri_zaman = pd.get_dummies(veri_zaman, columns = [\"madalya\"], dtype = int)# kategorik verileri (one-hot encoding) formatına çevirir (0-1)\n",
    "veri_zaman.head()"
   ]
  },
  {
   "cell_type": "code",
   "execution_count": 50,
   "id": "07b3c091-45af-4a15-84c2-8ec11efc7da0",
   "metadata": {},
   "outputs": [
    {
     "data": {
      "text/html": [
       "<div>\n",
       "<style scoped>\n",
       "    .dataframe tbody tr th:only-of-type {\n",
       "        vertical-align: middle;\n",
       "    }\n",
       "\n",
       "    .dataframe tbody tr th {\n",
       "        vertical-align: top;\n",
       "    }\n",
       "\n",
       "    .dataframe thead th {\n",
       "        text-align: right;\n",
       "    }\n",
       "</style>\n",
       "<table border=\"1\" class=\"dataframe\">\n",
       "  <thead>\n",
       "    <tr style=\"text-align: right;\">\n",
       "      <th></th>\n",
       "      <th>yas</th>\n",
       "      <th>boy</th>\n",
       "      <th>kilo</th>\n",
       "      <th>madalya_Bronze</th>\n",
       "      <th>madalya_Gold</th>\n",
       "      <th>madalya_Silver</th>\n",
       "    </tr>\n",
       "    <tr>\n",
       "      <th>tarih_saat</th>\n",
       "      <th></th>\n",
       "      <th></th>\n",
       "      <th></th>\n",
       "      <th></th>\n",
       "      <th></th>\n",
       "      <th></th>\n",
       "    </tr>\n",
       "  </thead>\n",
       "  <tbody>\n",
       "    <tr>\n",
       "      <th>2008-12-31</th>\n",
       "      <td>53344.0</td>\n",
       "      <td>365157.91</td>\n",
       "      <td>152090.92</td>\n",
       "      <td>710</td>\n",
       "      <td>671</td>\n",
       "      <td>667</td>\n",
       "    </tr>\n",
       "    <tr>\n",
       "      <th>2010-12-31</th>\n",
       "      <td>13896.0</td>\n",
       "      <td>91395.00</td>\n",
       "      <td>37877.12</td>\n",
       "      <td>171</td>\n",
       "      <td>174</td>\n",
       "      <td>175</td>\n",
       "    </tr>\n",
       "    <tr>\n",
       "      <th>2012-12-31</th>\n",
       "      <td>50595.0</td>\n",
       "      <td>346091.47</td>\n",
       "      <td>143102.94</td>\n",
       "      <td>679</td>\n",
       "      <td>632</td>\n",
       "      <td>630</td>\n",
       "    </tr>\n",
       "    <tr>\n",
       "      <th>2014-12-31</th>\n",
       "      <td>15907.0</td>\n",
       "      <td>104686.00</td>\n",
       "      <td>42838.63</td>\n",
       "      <td>198</td>\n",
       "      <td>202</td>\n",
       "      <td>197</td>\n",
       "    </tr>\n",
       "    <tr>\n",
       "      <th>2016-12-31</th>\n",
       "      <td>53256.0</td>\n",
       "      <td>360846.03</td>\n",
       "      <td>149628.71</td>\n",
       "      <td>703</td>\n",
       "      <td>665</td>\n",
       "      <td>655</td>\n",
       "    </tr>\n",
       "  </tbody>\n",
       "</table>\n",
       "</div>"
      ],
      "text/plain": [
       "                yas        boy       kilo  madalya_Bronze  madalya_Gold  \\\n",
       "tarih_saat                                                                \n",
       "2008-12-31  53344.0  365157.91  152090.92             710           671   \n",
       "2010-12-31  13896.0   91395.00   37877.12             171           174   \n",
       "2012-12-31  50595.0  346091.47  143102.94             679           632   \n",
       "2014-12-31  15907.0  104686.00   42838.63             198           202   \n",
       "2016-12-31  53256.0  360846.03  149628.71             703           665   \n",
       "\n",
       "            madalya_Silver  \n",
       "tarih_saat                  \n",
       "2008-12-31             667  \n",
       "2010-12-31             175  \n",
       "2012-12-31             630  \n",
       "2014-12-31             197  \n",
       "2016-12-31             655  "
      ]
     },
     "execution_count": 50,
     "metadata": {},
     "output_type": "execute_result"
    }
   ],
   "source": [
    "periyodik_veri = veri_zaman.select_dtypes(include='number').resample(\"2YE\").sum()\n",
    "periyodik_veri = periyodik_veri[(periyodik_veri != 0).all(axis=1)]\n",
    "periyodik_veri.head()\n",
    "# kayıp verileri çıkaralım\n",
    "periyodik_veri = periyodik_veri[~(periyodik_veri == 0).any(axis = 1)]\n",
    "periyodik_veri.tail()"
   ]
  },
  {
   "cell_type": "code",
   "execution_count": 51,
   "id": "c3073ca7-ec4d-4d07-97e2-8e894dfb4faf",
   "metadata": {},
   "outputs": [
    {
     "data": {
      "text/plain": [
       "<Figure size 640x480 with 0 Axes>"
      ]
     },
     "metadata": {},
     "output_type": "display_data"
    },
    {
     "data": {
      "image/png": "[encoded data removed]",
      "text/plain": [
       "<Figure size 640x480 with 1 Axes>"
      ]
     },
     "metadata": {},
     "output_type": "display_data"
    }
   ],
   "source": [
    "#görsel olarak görelim\n",
    "plt.figure()\n",
    "periyodik_veri.loc[:, [\"madalya_Bronze\", \"madalya_Gold\", \"madalya_Silver\"]].plot()\n",
    "plt.title(\"Yıllara Göre Madalya Sayıları\")\n",
    "plt.ylabel = \"Sayı\"\n",
    "plt.xlabel(\"Yıl\")\n",
    "plt.grid(True)\n",
    "plt.show()"
   ]
  },
  {
   "cell_type": "code",
   "execution_count": 52,
   "id": "8dca59d3-9655-4b3e-ac49-8b554501da05",
   "metadata": {},
   "outputs": [],
   "source": [
    "yaz = veri_zaman[veri_zaman.sezon == \"Summer\"]\n",
    "kis = veri_zaman[veri_zaman.sezon == \"Winter\"]"
   ]
  },
  {
   "cell_type": "code",
   "execution_count": 53,
   "id": "73fde708-c292-42e7-bf62-4289814b7314",
   "metadata": {},
   "outputs": [
    {
     "data": {
      "text/html": [
       "<div>\n",
       "<style scoped>\n",
       "    .dataframe tbody tr th:only-of-type {\n",
       "        vertical-align: middle;\n",
       "    }\n",
       "\n",
       "    .dataframe tbody tr th {\n",
       "        vertical-align: top;\n",
       "    }\n",
       "\n",
       "    .dataframe thead th {\n",
       "        text-align: right;\n",
       "    }\n",
       "</style>\n",
       "<table border=\"1\" class=\"dataframe\">\n",
       "  <thead>\n",
       "    <tr style=\"text-align: right;\">\n",
       "      <th></th>\n",
       "      <th>isim</th>\n",
       "      <th>cinsiyet</th>\n",
       "      <th>yas</th>\n",
       "      <th>boy</th>\n",
       "      <th>kilo</th>\n",
       "      <th>takim</th>\n",
       "      <th>uok</th>\n",
       "      <th>sezon</th>\n",
       "      <th>sehir</th>\n",
       "      <th>spor</th>\n",
       "      <th>etkinlik</th>\n",
       "      <th>madalya_Bronze</th>\n",
       "      <th>madalya_Gold</th>\n",
       "      <th>madalya_Silver</th>\n",
       "    </tr>\n",
       "    <tr>\n",
       "      <th>tarih_saat</th>\n",
       "      <th></th>\n",
       "      <th></th>\n",
       "      <th></th>\n",
       "      <th></th>\n",
       "      <th></th>\n",
       "      <th></th>\n",
       "      <th></th>\n",
       "      <th></th>\n",
       "      <th></th>\n",
       "      <th></th>\n",
       "      <th></th>\n",
       "      <th></th>\n",
       "      <th></th>\n",
       "      <th></th>\n",
       "    </tr>\n",
       "  </thead>\n",
       "  <tbody>\n",
       "    <tr>\n",
       "      <th>1900-01-01</th>\n",
       "      <td>Edgar Lindenau Aabye</td>\n",
       "      <td>M</td>\n",
       "      <td>34.0</td>\n",
       "      <td>182.48</td>\n",
       "      <td>95.62</td>\n",
       "      <td>Denmark/Sweden</td>\n",
       "      <td>DEN</td>\n",
       "      <td>Summer</td>\n",
       "      <td>Paris</td>\n",
       "      <td>Tug-Of-War</td>\n",
       "      <td>Tug-Of-War Men's Tug-Of-War</td>\n",
       "      <td>0</td>\n",
       "      <td>1</td>\n",
       "      <td>0</td>\n",
       "    </tr>\n",
       "    <tr>\n",
       "      <th>1920-01-01</th>\n",
       "      <td>Arvo Ossian Aaltonen</td>\n",
       "      <td>M</td>\n",
       "      <td>30.0</td>\n",
       "      <td>182.01</td>\n",
       "      <td>76.69</td>\n",
       "      <td>Finland</td>\n",
       "      <td>FIN</td>\n",
       "      <td>Summer</td>\n",
       "      <td>Antwerpen</td>\n",
       "      <td>Swimming</td>\n",
       "      <td>Swimming Men's 200 metres Breaststroke</td>\n",
       "      <td>1</td>\n",
       "      <td>0</td>\n",
       "      <td>0</td>\n",
       "    </tr>\n",
       "    <tr>\n",
       "      <th>1920-01-01</th>\n",
       "      <td>Arvo Ossian Aaltonen</td>\n",
       "      <td>M</td>\n",
       "      <td>30.0</td>\n",
       "      <td>177.00</td>\n",
       "      <td>75.00</td>\n",
       "      <td>Finland</td>\n",
       "      <td>FIN</td>\n",
       "      <td>Summer</td>\n",
       "      <td>Antwerpen</td>\n",
       "      <td>Swimming</td>\n",
       "      <td>Swimming Men's 400 metres Breaststroke</td>\n",
       "      <td>1</td>\n",
       "      <td>0</td>\n",
       "      <td>0</td>\n",
       "    </tr>\n",
       "  </tbody>\n",
       "</table>\n",
       "</div>"
      ],
      "text/plain": [
       "                            isim cinsiyet   yas     boy   kilo  \\\n",
       "tarih_saat                                                       \n",
       "1900-01-01  Edgar Lindenau Aabye        M  34.0  182.48  95.62   \n",
       "1920-01-01  Arvo Ossian Aaltonen        M  30.0  182.01  76.69   \n",
       "1920-01-01  Arvo Ossian Aaltonen        M  30.0  177.00  75.00   \n",
       "\n",
       "                     takim  uok   sezon      sehir        spor  \\\n",
       "tarih_saat                                                       \n",
       "1900-01-01  Denmark/Sweden  DEN  Summer      Paris  Tug-Of-War   \n",
       "1920-01-01         Finland  FIN  Summer  Antwerpen    Swimming   \n",
       "1920-01-01         Finland  FIN  Summer  Antwerpen    Swimming   \n",
       "\n",
       "                                          etkinlik  madalya_Bronze  \\\n",
       "tarih_saat                                                           \n",
       "1900-01-01             Tug-Of-War Men's Tug-Of-War               0   \n",
       "1920-01-01  Swimming Men's 200 metres Breaststroke               1   \n",
       "1920-01-01  Swimming Men's 400 metres Breaststroke               1   \n",
       "\n",
       "            madalya_Gold  madalya_Silver  \n",
       "tarih_saat                                \n",
       "1900-01-01             1               0  \n",
       "1920-01-01             0               0  \n",
       "1920-01-01             0               0  "
      ]
     },
     "execution_count": 53,
     "metadata": {},
     "output_type": "execute_result"
    }
   ],
   "source": [
    "#yaz olimpiyatları\n",
    "yaz.head(3)"
   ]
  },
  {
   "cell_type": "code",
   "execution_count": 54,
   "id": "0ed5e9a9-98ac-4ca6-a537-0f0b0fce8eba",
   "metadata": {},
   "outputs": [
    {
     "data": {
      "text/html": [
       "<div>\n",
       "<style scoped>\n",
       "    .dataframe tbody tr th:only-of-type {\n",
       "        vertical-align: middle;\n",
       "    }\n",
       "\n",
       "    .dataframe tbody tr th {\n",
       "        vertical-align: top;\n",
       "    }\n",
       "\n",
       "    .dataframe thead th {\n",
       "        text-align: right;\n",
       "    }\n",
       "</style>\n",
       "<table border=\"1\" class=\"dataframe\">\n",
       "  <thead>\n",
       "    <tr style=\"text-align: right;\">\n",
       "      <th></th>\n",
       "      <th>isim</th>\n",
       "      <th>cinsiyet</th>\n",
       "      <th>yas</th>\n",
       "      <th>boy</th>\n",
       "      <th>kilo</th>\n",
       "      <th>takim</th>\n",
       "      <th>uok</th>\n",
       "      <th>sezon</th>\n",
       "      <th>sehir</th>\n",
       "      <th>spor</th>\n",
       "      <th>etkinlik</th>\n",
       "      <th>madalya_Bronze</th>\n",
       "      <th>madalya_Gold</th>\n",
       "      <th>madalya_Silver</th>\n",
       "    </tr>\n",
       "    <tr>\n",
       "      <th>tarih_saat</th>\n",
       "      <th></th>\n",
       "      <th></th>\n",
       "      <th></th>\n",
       "      <th></th>\n",
       "      <th></th>\n",
       "      <th></th>\n",
       "      <th></th>\n",
       "      <th></th>\n",
       "      <th></th>\n",
       "      <th></th>\n",
       "      <th></th>\n",
       "      <th></th>\n",
       "      <th></th>\n",
       "      <th></th>\n",
       "    </tr>\n",
       "  </thead>\n",
       "  <tbody>\n",
       "    <tr>\n",
       "      <th>2014-01-01</th>\n",
       "      <td>Juhamatti Tapio Aaltonen</td>\n",
       "      <td>M</td>\n",
       "      <td>28.0</td>\n",
       "      <td>184.0</td>\n",
       "      <td>85.0</td>\n",
       "      <td>Finland</td>\n",
       "      <td>FIN</td>\n",
       "      <td>Winter</td>\n",
       "      <td>Sochi</td>\n",
       "      <td>Ice Hockey</td>\n",
       "      <td>Ice Hockey Men's Ice Hockey</td>\n",
       "      <td>1</td>\n",
       "      <td>0</td>\n",
       "      <td>0</td>\n",
       "    </tr>\n",
       "    <tr>\n",
       "      <th>1992-01-01</th>\n",
       "      <td>Kjetil Andr Aamodt</td>\n",
       "      <td>M</td>\n",
       "      <td>20.0</td>\n",
       "      <td>176.0</td>\n",
       "      <td>85.0</td>\n",
       "      <td>Norway</td>\n",
       "      <td>NOR</td>\n",
       "      <td>Winter</td>\n",
       "      <td>Albertville</td>\n",
       "      <td>Alpine Skiing</td>\n",
       "      <td>Alpine Skiing Men's Super G</td>\n",
       "      <td>0</td>\n",
       "      <td>1</td>\n",
       "      <td>0</td>\n",
       "    </tr>\n",
       "    <tr>\n",
       "      <th>1992-01-01</th>\n",
       "      <td>Kjetil Andr Aamodt</td>\n",
       "      <td>M</td>\n",
       "      <td>20.0</td>\n",
       "      <td>176.0</td>\n",
       "      <td>85.0</td>\n",
       "      <td>Norway</td>\n",
       "      <td>NOR</td>\n",
       "      <td>Winter</td>\n",
       "      <td>Albertville</td>\n",
       "      <td>Alpine Skiing</td>\n",
       "      <td>Alpine Skiing Men's Giant Slalom</td>\n",
       "      <td>1</td>\n",
       "      <td>0</td>\n",
       "      <td>0</td>\n",
       "    </tr>\n",
       "  </tbody>\n",
       "</table>\n",
       "</div>"
      ],
      "text/plain": [
       "                                isim cinsiyet   yas    boy  kilo    takim  \\\n",
       "tarih_saat                                                                  \n",
       "2014-01-01  Juhamatti Tapio Aaltonen        M  28.0  184.0  85.0  Finland   \n",
       "1992-01-01        Kjetil Andr Aamodt        M  20.0  176.0  85.0   Norway   \n",
       "1992-01-01        Kjetil Andr Aamodt        M  20.0  176.0  85.0   Norway   \n",
       "\n",
       "            uok   sezon        sehir           spor  \\\n",
       "tarih_saat                                            \n",
       "2014-01-01  FIN  Winter        Sochi     Ice Hockey   \n",
       "1992-01-01  NOR  Winter  Albertville  Alpine Skiing   \n",
       "1992-01-01  NOR  Winter  Albertville  Alpine Skiing   \n",
       "\n",
       "                                    etkinlik  madalya_Bronze  madalya_Gold  \\\n",
       "tarih_saat                                                                   \n",
       "2014-01-01       Ice Hockey Men's Ice Hockey               1             0   \n",
       "1992-01-01       Alpine Skiing Men's Super G               0             1   \n",
       "1992-01-01  Alpine Skiing Men's Giant Slalom               1             0   \n",
       "\n",
       "            madalya_Silver  \n",
       "tarih_saat                  \n",
       "2014-01-01               0  \n",
       "1992-01-01               0  \n",
       "1992-01-01               0  "
      ]
     },
     "execution_count": 54,
     "metadata": {},
     "output_type": "execute_result"
    }
   ],
   "source": [
    "# kış olimpiyatları\n",
    "kis.head(3)"
   ]
  },
  {
   "cell_type": "code",
   "execution_count": 55,
   "id": "4944b850-00c6-4fa8-a94d-69f4053e7b28",
   "metadata": {},
   "outputs": [
    {
     "data": {
      "text/html": [
       "<div>\n",
       "<style scoped>\n",
       "    .dataframe tbody tr th:only-of-type {\n",
       "        vertical-align: middle;\n",
       "    }\n",
       "\n",
       "    .dataframe tbody tr th {\n",
       "        vertical-align: top;\n",
       "    }\n",
       "\n",
       "    .dataframe thead th {\n",
       "        text-align: right;\n",
       "    }\n",
       "</style>\n",
       "<table border=\"1\" class=\"dataframe\">\n",
       "  <thead>\n",
       "    <tr style=\"text-align: right;\">\n",
       "      <th></th>\n",
       "      <th>yas</th>\n",
       "      <th>boy</th>\n",
       "      <th>kilo</th>\n",
       "      <th>madalya_Bronze</th>\n",
       "      <th>madalya_Gold</th>\n",
       "      <th>madalya_Silver</th>\n",
       "    </tr>\n",
       "    <tr>\n",
       "      <th>tarih_saat</th>\n",
       "      <th></th>\n",
       "      <th></th>\n",
       "      <th></th>\n",
       "      <th></th>\n",
       "      <th></th>\n",
       "      <th></th>\n",
       "    </tr>\n",
       "  </thead>\n",
       "  <tbody>\n",
       "    <tr>\n",
       "      <th>1924-12-31</th>\n",
       "      <td>3919.60</td>\n",
       "      <td>22867.28</td>\n",
       "      <td>9703.58</td>\n",
       "      <td>37</td>\n",
       "      <td>55</td>\n",
       "      <td>38</td>\n",
       "    </tr>\n",
       "    <tr>\n",
       "      <th>1928-12-31</th>\n",
       "      <td>2265.56</td>\n",
       "      <td>15745.75</td>\n",
       "      <td>6862.50</td>\n",
       "      <td>31</td>\n",
       "      <td>30</td>\n",
       "      <td>28</td>\n",
       "    </tr>\n",
       "    <tr>\n",
       "      <th>1932-12-31</th>\n",
       "      <td>2431.00</td>\n",
       "      <td>16357.71</td>\n",
       "      <td>7067.76</td>\n",
       "      <td>28</td>\n",
       "      <td>32</td>\n",
       "      <td>32</td>\n",
       "    </tr>\n",
       "    <tr>\n",
       "      <th>1936-12-31</th>\n",
       "      <td>2742.00</td>\n",
       "      <td>19123.20</td>\n",
       "      <td>8101.88</td>\n",
       "      <td>35</td>\n",
       "      <td>36</td>\n",
       "      <td>37</td>\n",
       "    </tr>\n",
       "    <tr>\n",
       "      <th>1948-12-31</th>\n",
       "      <td>3643.00</td>\n",
       "      <td>23942.51</td>\n",
       "      <td>10375.92</td>\n",
       "      <td>46</td>\n",
       "      <td>41</td>\n",
       "      <td>48</td>\n",
       "    </tr>\n",
       "  </tbody>\n",
       "</table>\n",
       "</div>"
      ],
      "text/plain": [
       "                yas       boy      kilo  madalya_Bronze  madalya_Gold  \\\n",
       "tarih_saat                                                              \n",
       "1924-12-31  3919.60  22867.28   9703.58              37            55   \n",
       "1928-12-31  2265.56  15745.75   6862.50              31            30   \n",
       "1932-12-31  2431.00  16357.71   7067.76              28            32   \n",
       "1936-12-31  2742.00  19123.20   8101.88              35            36   \n",
       "1948-12-31  3643.00  23942.51  10375.92              46            41   \n",
       "\n",
       "            madalya_Silver  \n",
       "tarih_saat                  \n",
       "1924-12-31              38  \n",
       "1928-12-31              28  \n",
       "1932-12-31              32  \n",
       "1936-12-31              37  \n",
       "1948-12-31              48  "
      ]
     },
     "execution_count": 55,
     "metadata": {},
     "output_type": "execute_result"
    }
   ],
   "source": [
    "# Periyodik veriler - kış\n",
    "periyodik_veri_kis = kis.select_dtypes(include = 'number').resample(\"YE\").sum()\n",
    "periyodik_veri_kis = periyodik_veri_kis[(periyodik_veri_kis != 0).all(axis=1)]\n",
    "periyodik_veri_kis.head()"
   ]
  },
  {
   "cell_type": "code",
   "execution_count": 60,
   "id": "4aa476bf-fb24-4a0f-b4f2-3145b471727c",
   "metadata": {},
   "outputs": [
    {
     "data": {
      "text/html": [
       "<div>\n",
       "<style scoped>\n",
       "    .dataframe tbody tr th:only-of-type {\n",
       "        vertical-align: middle;\n",
       "    }\n",
       "\n",
       "    .dataframe tbody tr th {\n",
       "        vertical-align: top;\n",
       "    }\n",
       "\n",
       "    .dataframe thead th {\n",
       "        text-align: right;\n",
       "    }\n",
       "</style>\n",
       "<table border=\"1\" class=\"dataframe\">\n",
       "  <thead>\n",
       "    <tr style=\"text-align: right;\">\n",
       "      <th></th>\n",
       "      <th>yas</th>\n",
       "      <th>boy</th>\n",
       "      <th>kilo</th>\n",
       "      <th>madalya_Bronze</th>\n",
       "      <th>madalya_Gold</th>\n",
       "      <th>madalya_Silver</th>\n",
       "    </tr>\n",
       "    <tr>\n",
       "      <th>tarih_saat</th>\n",
       "      <th></th>\n",
       "      <th></th>\n",
       "      <th></th>\n",
       "      <th></th>\n",
       "      <th></th>\n",
       "      <th></th>\n",
       "    </tr>\n",
       "  </thead>\n",
       "  <tbody>\n",
       "    <tr>\n",
       "      <th>1896-12-31</th>\n",
       "      <td>3418.52</td>\n",
       "      <td>24922.09</td>\n",
       "      <td>10400.97</td>\n",
       "      <td>38</td>\n",
       "      <td>62</td>\n",
       "      <td>43</td>\n",
       "    </tr>\n",
       "    <tr>\n",
       "      <th>1900-12-31</th>\n",
       "      <td>16783.16</td>\n",
       "      <td>107440.91</td>\n",
       "      <td>45287.89</td>\n",
       "      <td>175</td>\n",
       "      <td>201</td>\n",
       "      <td>228</td>\n",
       "    </tr>\n",
       "    <tr>\n",
       "      <th>1904-12-31</th>\n",
       "      <td>12812.84</td>\n",
       "      <td>86139.17</td>\n",
       "      <td>36124.78</td>\n",
       "      <td>150</td>\n",
       "      <td>173</td>\n",
       "      <td>163</td>\n",
       "    </tr>\n",
       "    <tr>\n",
       "      <th>1906-12-31</th>\n",
       "      <td>12127.56</td>\n",
       "      <td>80767.19</td>\n",
       "      <td>33925.06</td>\n",
       "      <td>145</td>\n",
       "      <td>157</td>\n",
       "      <td>156</td>\n",
       "    </tr>\n",
       "    <tr>\n",
       "      <th>1908-12-31</th>\n",
       "      <td>22907.96</td>\n",
       "      <td>146806.47</td>\n",
       "      <td>61262.24</td>\n",
       "      <td>256</td>\n",
       "      <td>294</td>\n",
       "      <td>281</td>\n",
       "    </tr>\n",
       "  </tbody>\n",
       "</table>\n",
       "</div>"
      ],
      "text/plain": [
       "                 yas        boy      kilo  madalya_Bronze  madalya_Gold  \\\n",
       "tarih_saat                                                                \n",
       "1896-12-31   3418.52   24922.09  10400.97              38            62   \n",
       "1900-12-31  16783.16  107440.91  45287.89             175           201   \n",
       "1904-12-31  12812.84   86139.17  36124.78             150           173   \n",
       "1906-12-31  12127.56   80767.19  33925.06             145           157   \n",
       "1908-12-31  22907.96  146806.47  61262.24             256           294   \n",
       "\n",
       "            madalya_Silver  \n",
       "tarih_saat                  \n",
       "1896-12-31              43  \n",
       "1900-12-31             228  \n",
       "1904-12-31             163  \n",
       "1906-12-31             156  \n",
       "1908-12-31             281  "
      ]
     },
     "execution_count": 60,
     "metadata": {},
     "output_type": "execute_result"
    }
   ],
   "source": [
    "# Periyodik veriler yaz\n",
    "periyodik_veriler_yaz = yaz.select_dtypes(include = 'number').resample(\"YE\").sum()\n",
    "periyodik_veriler_yaz = periyodik_veriler_yaz[(periyodik_veriler_yaz != 0).any(axis = 1)]\n",
    "periyodik_veriler_yaz.head()"
   ]
  },
  {
   "cell_type": "code",
   "execution_count": 63,
   "id": "bcc3ce6d-8435-4a7e-9db4-5aef1a3927e4",
   "metadata": {},
   "outputs": [
    {
     "data": {
      "text/plain": [
       "<Figure size 640x480 with 0 Axes>"
      ]
     },
     "metadata": {},
     "output_type": "display_data"
    },
    {
     "data": {
      "image/png": "[encoded data removed]",
      "text/plain": [
       "<Figure size 640x480 with 1 Axes>"
      ]
     },
     "metadata": {},
     "output_type": "display_data"
    }
   ],
   "source": [
    "### Yeni Sezon Madalyaları - Görsel\n",
    "plt.figure()\n",
    "periyodik_veriler_yaz.loc[:, [\"madalya_Bronze\",\"madalya_Gold\", \"madalya_Silver\"]].plot()\n",
    "plt.title(\"Yıllara Göre Madalya Sayıları - Yaz Sezonu\")\n",
    "plt.ylabel = \"Sayı\"\n",
    "plt.xlabel = (\"Yıl\")\n",
    "plt.grid(True)\n",
    "plt.show()"
   ]
  },
  {
   "cell_type": "markdown",
   "id": "ce8034a0-424e-4dfb-9bf1-de81a0fdf390",
   "metadata": {},
   "source": [
    "### Kış Sezonu Madalyaları - Görsel"
   ]
  },
  {
   "cell_type": "code",
   "execution_count": 67,
   "id": "cc72a560-5ea4-4917-afda-ad891fc72e74",
   "metadata": {},
   "outputs": [
    {
     "data": {
      "text/plain": [
       "<Figure size 640x480 with 0 Axes>"
      ]
     },
     "metadata": {},
     "output_type": "display_data"
    },
    {
     "data": {
      "image/png": "[encoded data removed]",
      "text/plain": [
       "<Figure size 640x480 with 1 Axes>"
      ]
     },
     "metadata": {},
     "output_type": "display_data"
    }
   ],
   "source": [
    "#Kış sezonu madalyaları\n",
    "plt.figure()\n",
    "periyodik_veri_kis.loc[:, [\"madalya_Bronze\",\"madalya_Gold\", \"madalya_Silver\"]].plot()\n",
    "plt.title(\"Yıllara Göre Madalya Sayıları - Yaz Sezonu\")\n",
    "plt.ylabel = \"Sayı\"\n",
    "plt.xlabel = \"Yıl\"\n",
    "plt.show()"
   ]
  }
 ],
 "metadata": {
  "kernelspec": {
   "display_name": "Python 3 (ipykernel)",
   "language": "python",
   "name": "python3"
  },
  "language_info": {
   "codemirror_mode": {
    "name": "ipython",
    "version": 3
   },
   "file_extension": ".py",
   "mimetype": "text/x-python",
   "name": "python",
   "nbconvert_exporter": "python",
   "pygments_lexer": "ipython3",
   "version": "3.11.5"
  }
 },
 "nbformat": 4,
 "nbformat_minor": 5
}
